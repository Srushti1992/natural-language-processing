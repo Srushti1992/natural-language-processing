{
 "cells": [
  {
   "cell_type": "markdown",
   "id": "719ea2d0",
   "metadata": {},
   "source": [
    "# Natural Language Processing Workflow"
   ]
  },
  {
   "cell_type": "code",
   "execution_count": 94,
   "id": "26da6d6f",
   "metadata": {},
   "outputs": [],
   "source": [
    "import pandas as pd\n",
    "corpus = pd.read_csv('satire_nosatire.csv')"
   ]
  },
  {
   "cell_type": "code",
   "execution_count": 95,
   "id": "43a1122a",
   "metadata": {},
   "outputs": [
    {
     "data": {
      "text/html": [
       "<div>\n",
       "<style scoped>\n",
       "    .dataframe tbody tr th:only-of-type {\n",
       "        vertical-align: middle;\n",
       "    }\n",
       "\n",
       "    .dataframe tbody tr th {\n",
       "        vertical-align: top;\n",
       "    }\n",
       "\n",
       "    .dataframe thead th {\n",
       "        text-align: right;\n",
       "    }\n",
       "</style>\n",
       "<table border=\"1\" class=\"dataframe\">\n",
       "  <thead>\n",
       "    <tr style=\"text-align: right;\">\n",
       "      <th></th>\n",
       "      <th>body</th>\n",
       "      <th>target</th>\n",
       "    </tr>\n",
       "  </thead>\n",
       "  <tbody>\n",
       "    <tr>\n",
       "      <th>0</th>\n",
       "      <td>Noting that the resignation of James Mattis as...</td>\n",
       "      <td>1</td>\n",
       "    </tr>\n",
       "    <tr>\n",
       "      <th>1</th>\n",
       "      <td>Desperate to unwind after months of nonstop wo...</td>\n",
       "      <td>1</td>\n",
       "    </tr>\n",
       "    <tr>\n",
       "      <th>2</th>\n",
       "      <td>Nearly halfway through his presidential term, ...</td>\n",
       "      <td>1</td>\n",
       "    </tr>\n",
       "    <tr>\n",
       "      <th>3</th>\n",
       "      <td>Attempting to make amends for gross abuses of ...</td>\n",
       "      <td>1</td>\n",
       "    </tr>\n",
       "    <tr>\n",
       "      <th>4</th>\n",
       "      <td>Decrying the Senate’s resolution blaming the c...</td>\n",
       "      <td>1</td>\n",
       "    </tr>\n",
       "  </tbody>\n",
       "</table>\n",
       "</div>"
      ],
      "text/plain": [
       "                                                body  target\n",
       "0  Noting that the resignation of James Mattis as...       1\n",
       "1  Desperate to unwind after months of nonstop wo...       1\n",
       "2  Nearly halfway through his presidential term, ...       1\n",
       "3  Attempting to make amends for gross abuses of ...       1\n",
       "4  Decrying the Senate’s resolution blaming the c...       1"
      ]
     },
     "execution_count": 95,
     "metadata": {},
     "output_type": "execute_result"
    }
   ],
   "source": [
    "corpus.head()"
   ]
  },
  {
   "cell_type": "code",
   "execution_count": 96,
   "id": "e4681b49",
   "metadata": {},
   "outputs": [
    {
     "data": {
      "text/plain": [
       "(1000, 2)"
      ]
     },
     "execution_count": 96,
     "metadata": {},
     "output_type": "execute_result"
    }
   ],
   "source": [
    "#Checking to how many documents are in the corpus\n",
    "corpus.shape"
   ]
  },
  {
   "cell_type": "code",
   "execution_count": 97,
   "id": "df0c0f50",
   "metadata": {},
   "outputs": [
    {
     "data": {
      "text/plain": [
       "1    500\n",
       "0    500\n",
       "Name: target, dtype: int64"
      ]
     },
     "execution_count": 97,
     "metadata": {},
     "output_type": "execute_result"
    }
   ],
   "source": [
    "#Checking the class balance\n",
    "corpus.target.value_counts()"
   ]
  },
  {
   "cell_type": "markdown",
   "id": "912d04d4",
   "metadata": {},
   "source": [
    "This is a balanced dataset containing 500 documents of each class. Class 1 referring to a satirical article, and class 2, a real news article."
   ]
  },
  {
   "cell_type": "code",
   "execution_count": 98,
   "id": "68e43a88",
   "metadata": {},
   "outputs": [],
   "source": [
    "## Manually removing capitals"
   ]
  },
  {
   "cell_type": "markdown",
   "id": "4044ca50",
   "metadata": {},
   "source": [
    "Even though the NLTK library provides tokenizers to perform text preprocessing, manually tokenizing provides some freedom during preprocessing."
   ]
  },
  {
   "cell_type": "code",
   "execution_count": 99,
   "id": "2076825c",
   "metadata": {},
   "outputs": [
    {
     "data": {
      "text/plain": [
       "['noting',\n",
       " 'that',\n",
       " 'the',\n",
       " 'resignation',\n",
       " 'of',\n",
       " 'james',\n",
       " 'mattis',\n",
       " 'as',\n",
       " 'secretary',\n",
       " 'of']"
      ]
     },
     "execution_count": 99,
     "metadata": {},
     "output_type": "execute_result"
    }
   ],
   "source": [
    "first_doc = corpus.iloc[0].body\n",
    "#Removing Capitals\n",
    "manual_clean = [x.lower() for x in first_doc.split(' ')]\n",
    "manual_clean[:10]"
   ]
  },
  {
   "cell_type": "code",
   "execution_count": 100,
   "id": "7ebfde64",
   "metadata": {},
   "outputs": [],
   "source": [
    "# Manually removing punctuation"
   ]
  },
  {
   "cell_type": "code",
   "execution_count": 101,
   "id": "f6bda698",
   "metadata": {},
   "outputs": [
    {
     "data": {
      "text/plain": [
       "['noting',\n",
       " 'that',\n",
       " 'the',\n",
       " 'resignation',\n",
       " 'of',\n",
       " 'james',\n",
       " 'mattis',\n",
       " 'as',\n",
       " 'secretary',\n",
       " 'of',\n",
       " 'defense',\n",
       " 'marked',\n",
       " 'the',\n",
       " 'ouster',\n",
       " 'of',\n",
       " 'the',\n",
       " 'third',\n",
       " 'top',\n",
       " 'administration',\n",
       " 'official',\n",
       " 'in',\n",
       " 'less',\n",
       " 'than',\n",
       " 'three',\n",
       " 'weeks',\n",
       " 'a',\n",
       " 'worried',\n",
       " 'populace',\n",
       " 'told',\n",
       " 'reporters',\n",
       " 'friday',\n",
       " 'that',\n",
       " 'it',\n",
       " 'was',\n",
       " 'unsure',\n",
       " 'how',\n",
       " 'many',\n",
       " 'former',\n",
       " 'trump',\n",
       " 'staffers',\n",
       " 'it',\n",
       " 'could',\n",
       " 'safely',\n",
       " 'reabsorb',\n",
       " '“jesus',\n",
       " 'we',\n",
       " 'can’t',\n",
       " 'just',\n",
       " 'take',\n",
       " 'back',\n",
       " 'these',\n",
       " 'assholes',\n",
       " 'all',\n",
       " 'at',\n",
       " 'once—we',\n",
       " 'need',\n",
       " 'time',\n",
       " 'to',\n",
       " 'process',\n",
       " 'one',\n",
       " 'before',\n",
       " 'we',\n",
       " 'get',\n",
       " 'the',\n",
       " 'next”',\n",
       " 'said',\n",
       " '53yearold',\n",
       " 'gregory',\n",
       " 'birch',\n",
       " 'of',\n",
       " 'naperville',\n",
       " 'il',\n",
       " 'echoing',\n",
       " 'the',\n",
       " 'concerns',\n",
       " 'of',\n",
       " '323',\n",
       " 'million',\n",
       " 'americans',\n",
       " 'in',\n",
       " 'also',\n",
       " 'noting',\n",
       " 'that',\n",
       " 'the',\n",
       " 'country',\n",
       " 'was',\n",
       " 'only',\n",
       " 'now',\n",
       " 'truly',\n",
       " 'beginning',\n",
       " 'to',\n",
       " 'reintegrate',\n",
       " 'former',\n",
       " 'national',\n",
       " 'security',\n",
       " 'advisor',\n",
       " 'michael',\n",
       " 'flynn',\n",
       " '“this',\n",
       " 'is',\n",
       " 'just',\n",
       " 'not',\n",
       " 'sustainable',\n",
       " 'i’d',\n",
       " 'say',\n",
       " 'we',\n",
       " 'can',\n",
       " 'handle',\n",
       " 'maybe',\n",
       " 'one',\n",
       " 'or',\n",
       " 'two',\n",
       " 'more',\n",
       " 'former',\n",
       " 'members',\n",
       " 'of',\n",
       " 'trump’s',\n",
       " 'inner',\n",
       " 'circle',\n",
       " 'over',\n",
       " 'the',\n",
       " 'remainder',\n",
       " 'of',\n",
       " 'the',\n",
       " 'year',\n",
       " 'but',\n",
       " 'that’s',\n",
       " 'it',\n",
       " 'this',\n",
       " 'country',\n",
       " 'has',\n",
       " 'its',\n",
       " 'limits”',\n",
       " 'the',\n",
       " 'us',\n",
       " 'populace',\n",
       " 'confirmed',\n",
       " 'that',\n",
       " 'they',\n",
       " 'could',\n",
       " 'not',\n",
       " 'handle',\n",
       " 'all',\n",
       " 'of',\n",
       " 'these',\n",
       " 'pieces',\n",
       " 'of',\n",
       " 'shit',\n",
       " 'trying',\n",
       " 'to',\n",
       " 'rejoin',\n",
       " 'society',\n",
       " 'at',\n",
       " 'once']"
      ]
     },
     "execution_count": 101,
     "metadata": {},
     "output_type": "execute_result"
    }
   ],
   "source": [
    "import string\n",
    "string.punctuation\n",
    "\n",
    "manual_clean = [''.join(c for c in s if c not in string.punctuation) for s in manual_clean]\n",
    "manual_clean"
   ]
  },
  {
   "cell_type": "code",
   "execution_count": 102,
   "id": "c2a944bd",
   "metadata": {},
   "outputs": [],
   "source": [
    "# Checking the frequency distribution with the FreqDist function from NLTK"
   ]
  },
  {
   "cell_type": "code",
   "execution_count": 103,
   "id": "7494057c",
   "metadata": {},
   "outputs": [
    {
     "data": {
      "image/png": "[encoded data removed]",
      "text/plain": [
       "<Figure size 576x576 with 1 Axes>"
      ]
     },
     "metadata": {
      "needs_background": "light"
     },
     "output_type": "display_data"
    },
    {
     "data": {
      "text/plain": [
       "<AxesSubplot:xlabel='Samples', ylabel='Counts'>"
      ]
     },
     "execution_count": 103,
     "metadata": {},
     "output_type": "execute_result"
    }
   ],
   "source": [
    "#Checking the frequency distribution before stopword removal\n",
    "from nltk.probability import FreqDist\n",
    "import matplotlib.pyplot as plt\n",
    "fdist = FreqDist(manual_clean)\n",
    "plt.figure(figsize=(8,8))\n",
    "fdist.plot(25)"
   ]
  },
  {
   "cell_type": "markdown",
   "id": "ebf755bd",
   "metadata": {},
   "source": [
    "the plot above is showing the highest frequency with stopwords. Since these words have low semantic value, they will be removed."
   ]
  },
  {
   "cell_type": "code",
   "execution_count": 104,
   "id": "4580e662",
   "metadata": {},
   "outputs": [],
   "source": [
    "# Removing stopwords"
   ]
  },
  {
   "cell_type": "markdown",
   "id": "f38ed412",
   "metadata": {},
   "source": [
    "Stopwords are basically filler words, e.g., prepositions and conjunctions. These words hold a low semantic value and should be removed so they aren’t counted when we vectorize. We can make use of the list of stopwords provided by NLTK. Something to note, if the stopword list doesn’t contain a stopword in a document, we can just add to the list."
   ]
  },
  {
   "cell_type": "code",
   "execution_count": 105,
   "id": "27f5ae07",
   "metadata": {},
   "outputs": [
    {
     "data": {
      "image/png": "[encoded data removed]",
      "text/plain": [
       "<Figure size 576x576 with 1 Axes>"
      ]
     },
     "metadata": {
      "needs_background": "light"
     },
     "output_type": "display_data"
    },
    {
     "data": {
      "text/plain": [
       "<AxesSubplot:xlabel='Samples', ylabel='Counts'>"
      ]
     },
     "execution_count": 105,
     "metadata": {},
     "output_type": "execute_result"
    }
   ],
   "source": [
    "from nltk.corpus import stopwords\n",
    "manual_clean = [x for x in manual_clean if x not in stopwords.words('english')]\n",
    "#Checking the frequency distribution with the stopwords removed\n",
    "fdist = FreqDist(manual_clean)\n",
    "plt.figure(figsize=(8,8))\n",
    "fdist.plot(25)"
   ]
  },
  {
   "cell_type": "markdown",
   "id": "8114fb01",
   "metadata": {},
   "source": [
    "From the frequency distribution plot above, we can see there are still a few filler words we can add to our stopwords list. Let’s go ahead and add could and one to the list."
   ]
  },
  {
   "cell_type": "code",
   "execution_count": 106,
   "id": "4aed24ce",
   "metadata": {},
   "outputs": [],
   "source": [
    "#Adding to the list of stopwords\n",
    "stopwords_list = stopwords.words('english')\n",
    "stopwords_list.extend(['could', 'one'])\n",
    "manual_clean = [x for x in manual_clean if x not in stopwords_list]"
   ]
  },
  {
   "cell_type": "code",
   "execution_count": 107,
   "id": "d4a08340",
   "metadata": {},
   "outputs": [],
   "source": [
    "# Removing numbers with regex"
   ]
  },
  {
   "cell_type": "markdown",
   "id": "761d0347",
   "metadata": {},
   "source": [
    "Numbers, like stopwords, usually have a low semantic value. This is the case for the text data we’re using so let’s go ahead and remove them. Removing numbers from the first document for example purposes."
   ]
  },
  {
   "cell_type": "code",
   "execution_count": 108,
   "id": "f2ddb19b",
   "metadata": {},
   "outputs": [
    {
     "data": {
      "text/plain": [
       "['53', '323']"
      ]
     },
     "execution_count": 108,
     "metadata": {},
     "output_type": "execute_result"
    }
   ],
   "source": [
    "import re\n",
    "pattern = '\\d+'\n",
    "first_doc = corpus.iloc[0].body\n",
    "num = re.findall(pattern, first_doc)\n",
    "num"
   ]
  },
  {
   "cell_type": "code",
   "execution_count": 109,
   "id": "9a0fbbb6",
   "metadata": {},
   "outputs": [],
   "source": [
    "# Stemming"
   ]
  },
  {
   "cell_type": "markdown",
   "id": "3b42b84c",
   "metadata": {},
   "source": [
    "Stemming is a method where the end of words are removed if it shows a derivational change to the word. Basically just reducing a word tokens down to its root word. This is helpful because most of the semantic meaning of a word is in the root, and a majority of the time, the beginning of a word is the root."
   ]
  },
  {
   "cell_type": "code",
   "execution_count": 110,
   "id": "8b2d74f5",
   "metadata": {},
   "outputs": [],
   "source": [
    "from nltk.stem import *\n",
    "porter_stemmer = PorterStemmer()\n",
    "snowball_stemmer = SnowballStemmer(language=\"english\")"
   ]
  },
  {
   "cell_type": "code",
   "execution_count": 111,
   "id": "012bfc31",
   "metadata": {},
   "outputs": [],
   "source": [
    "#Looping through each word in the document and stem it with both stemmers\n",
    "for word in first_doc:\n",
    "    porter_word = porter_stemmer.stem(word)\n",
    "    snowball_word = snowball_stemmer.stem(word)\n",
    "    \n",
    "    if porter_word != snowball_word:\n",
    "        print(porter_word, snowball_word)"
   ]
  },
  {
   "cell_type": "code",
   "execution_count": 112,
   "id": "1654bf7a",
   "metadata": {},
   "outputs": [],
   "source": [
    "# Lemmatization"
   ]
  },
  {
   "cell_type": "markdown",
   "id": "8df4283c",
   "metadata": {},
   "source": [
    "Lemming is similar to stemming but instead of just chopping off the end, uses part of speech tags when determining how to transform a word. Lemmatization reduces words showing sort of inflection in order to return a root word that belongs to the language. For example, stemming the word mice would not return mouse but lemming would."
   ]
  },
  {
   "cell_type": "code",
   "execution_count": 113,
   "id": "51e96560",
   "metadata": {},
   "outputs": [
    {
     "name": "stdout",
     "output_type": "stream",
     "text": [
      "knives becomes: knife\n",
      "Noting becomes: Noting\n"
     ]
    }
   ],
   "source": [
    "from nltk.stem import WordNetLemmatizer \n",
    "  \n",
    "lemmatizer = WordNetLemmatizer()\n",
    "print(f'knives becomes: {lemmatizer.lemmatize(\"knives\")}')\n",
    "print(f'Noting becomes: {lemmatizer.lemmatize(first_doc.split()[0])}')"
   ]
  },
  {
   "cell_type": "markdown",
   "id": "cc0993b3",
   "metadata": {},
   "source": [
    "If we wanted to PoS tag the text ourselves, we can make use of the pos_tag function from NLTK. This function will tag each word in a document and return the word along with its PoS tag. We can then, transform the NLTK tags to the tags of the WordNetLemmatizer."
   ]
  },
  {
   "cell_type": "code",
   "execution_count": 114,
   "id": "441376fc",
   "metadata": {},
   "outputs": [
    {
     "data": {
      "text/plain": [
       "[('Noting', 'VBG'),\n",
       " ('that', 'IN'),\n",
       " ('the', 'DT'),\n",
       " ('resignation', 'NN'),\n",
       " ('of', 'IN'),\n",
       " ('James', 'NNP'),\n",
       " ('Mattis', 'NNP'),\n",
       " ('as', 'IN'),\n",
       " ('Secretary', 'NNP'),\n",
       " ('of', 'IN')]"
      ]
     },
     "execution_count": 114,
     "metadata": {},
     "output_type": "execute_result"
    }
   ],
   "source": [
    "from nltk import pos_tag\n",
    "\n",
    "first_doc_tagged = pos_tag(first_doc.split())\n",
    "first_doc_tagged[:10]"
   ]
  },
  {
   "cell_type": "markdown",
   "id": "bbdb0685",
   "metadata": {},
   "source": [
    "We can make a function to transform the tags to match the WordNetLemmatizer tags."
   ]
  },
  {
   "cell_type": "code",
   "execution_count": 115,
   "id": "83467188",
   "metadata": {},
   "outputs": [],
   "source": [
    "from nltk.corpus import wordnet\n",
    "def wordnet_tags(tag):\n",
    "    if tag.startswith('J'):\n",
    "        return wordnet.ADJ\n",
    "    elif tag.startswith('V'):\n",
    "        return wordnet.VERB\n",
    "    elif tag.startswith('N'):\n",
    "        return wordnet.NOUN\n",
    "    elif tag.startswith('R'):\n",
    "        return wordnet.ADV\n",
    "    else:\n",
    "        return wordnet.NOUN"
   ]
  },
  {
   "cell_type": "code",
   "execution_count": 116,
   "id": "5ff30725",
   "metadata": {},
   "outputs": [],
   "source": [
    "# Transforming part of speech tags"
   ]
  },
  {
   "cell_type": "code",
   "execution_count": 117,
   "id": "9b82d6bb",
   "metadata": {},
   "outputs": [],
   "source": [
    "first_doc_tagged = [(x[0], wordnet_tags(x[1])) for x in first_doc_tagged]"
   ]
  },
  {
   "cell_type": "code",
   "execution_count": 118,
   "id": "89c56266",
   "metadata": {},
   "outputs": [],
   "source": [
    "# Lemmatizing first_doc_tagged with the tags we obtained with the wordnet_tags function above"
   ]
  },
  {
   "cell_type": "code",
   "execution_count": 119,
   "id": "57cb5029",
   "metadata": {},
   "outputs": [],
   "source": [
    "first_doc_lemmed = [lemmatizer.lemmatize(x[0], x[1]) for x in first_doc_tagged]"
   ]
  },
  {
   "cell_type": "code",
   "execution_count": 120,
   "id": "4e15e421",
   "metadata": {},
   "outputs": [],
   "source": [
    "# Bag-of-Words"
   ]
  },
  {
   "cell_type": "markdown",
   "id": "583c6e16",
   "metadata": {},
   "source": [
    "When performing NLP, the features can be extracted from the text by making a Bag-of-words (BoW). The BoW method will create a Document Term Matrix, a matrix where each column is a unique word and each row is a document. We can use Scikit-Learn’s CountVectorizer to do this on our first_doc_lemmed."
   ]
  },
  {
   "cell_type": "code",
   "execution_count": 121,
   "id": "086007df",
   "metadata": {},
   "outputs": [
    {
     "name": "stderr",
     "output_type": "stream",
     "text": [
      "C:\\Users\\chara\\AppData\\Local\\Programs\\Python\\Python39\\lib\\site-packages\\sklearn\\utils\\deprecation.py:87: FutureWarning: Function get_feature_names is deprecated; get_feature_names is deprecated in 1.0 and will be removed in 1.2. Please use get_feature_names_out instead.\n",
      "  warnings.warn(msg, category=FutureWarning)\n"
     ]
    },
    {
     "data": {
      "text/html": [
       "<div>\n",
       "<style scoped>\n",
       "    .dataframe tbody tr th:only-of-type {\n",
       "        vertical-align: middle;\n",
       "    }\n",
       "\n",
       "    .dataframe tbody tr th {\n",
       "        vertical-align: top;\n",
       "    }\n",
       "\n",
       "    .dataframe thead th {\n",
       "        text-align: right;\n",
       "    }\n",
       "</style>\n",
       "<table border=\"1\" class=\"dataframe\">\n",
       "  <thead>\n",
       "    <tr style=\"text-align: right;\">\n",
       "      <th></th>\n",
       "      <th>323</th>\n",
       "      <th>53</th>\n",
       "      <th>administration</th>\n",
       "      <th>advisor</th>\n",
       "      <th>all</th>\n",
       "      <th>also</th>\n",
       "      <th>americans</th>\n",
       "      <th>asshole</th>\n",
       "      <th>at</th>\n",
       "      <th>back</th>\n",
       "      <th>...</th>\n",
       "      <th>top</th>\n",
       "      <th>truly</th>\n",
       "      <th>trump</th>\n",
       "      <th>try</th>\n",
       "      <th>two</th>\n",
       "      <th>unsure</th>\n",
       "      <th>we</th>\n",
       "      <th>weeks</th>\n",
       "      <th>worried</th>\n",
       "      <th>year</th>\n",
       "    </tr>\n",
       "  </thead>\n",
       "  <tbody>\n",
       "    <tr>\n",
       "      <th>0</th>\n",
       "      <td>1</td>\n",
       "      <td>1</td>\n",
       "      <td>1</td>\n",
       "      <td>1</td>\n",
       "      <td>2</td>\n",
       "      <td>1</td>\n",
       "      <td>1</td>\n",
       "      <td>1</td>\n",
       "      <td>2</td>\n",
       "      <td>1</td>\n",
       "      <td>...</td>\n",
       "      <td>1</td>\n",
       "      <td>1</td>\n",
       "      <td>2</td>\n",
       "      <td>1</td>\n",
       "      <td>1</td>\n",
       "      <td>1</td>\n",
       "      <td>4</td>\n",
       "      <td>1</td>\n",
       "      <td>1</td>\n",
       "      <td>2</td>\n",
       "    </tr>\n",
       "  </tbody>\n",
       "</table>\n",
       "<p>1 rows × 104 columns</p>\n",
       "</div>"
      ],
      "text/plain": [
       "   323  53  administration  advisor  all  also  americans  asshole  at  back  \\\n",
       "0    1   1               1        1    2     1          1        1   2     1   \n",
       "\n",
       "   ...  top  truly  trump  try  two  unsure  we  weeks  worried  year  \n",
       "0  ...    1      1      2    1    1       1   4      1        1     2  \n",
       "\n",
       "[1 rows x 104 columns]"
      ]
     },
     "execution_count": 121,
     "metadata": {},
     "output_type": "execute_result"
    }
   ],
   "source": [
    "import pandas as pd\n",
    "from sklearn.feature_extraction.text import CountVectorizer\n",
    "#Transform text documents to a matrix with token counts\n",
    "vec = CountVectorizer()\n",
    "X = vec.fit_transform([\" \".join(first_doc_lemmed)])\n",
    "#Casting results as a Pandas DataFrame\n",
    "df = pd.DataFrame(X.toarray(), columns = vec.get_feature_names())\n",
    "df.head()\n"
   ]
  },
  {
   "cell_type": "markdown",
   "id": "b40bf3d7",
   "metadata": {},
   "source": [
    "# Bigrams & Mutual Information Score\n",
    "Instead of tokenizing the text we could also create Bigrams. A bigram is two adjacent words that are treated as one. Bigrams are helpful when performing sentiment analysis on text data, e.g., upset, barely upset. With bigrams we can apply a frequency filter to remove the bigrams that occur due to random chance. If a bigram occurs multiple times, it must have some meaning. The minimum frequency filter depends on the number of factors in the data, a normal starting value is 5 but should also be experimented with to get the most optimal value.\n",
    "Bigrams can also be created by calculating their Pointwise Mutual Information Score (PMI). This measures the mutual dependence between a pair of words. The bigram “social media” would most likely return a high PMI score, the pair are more than likely appear together than not."
   ]
  },
  {
   "cell_type": "code",
   "execution_count": 122,
   "id": "248cd064",
   "metadata": {},
   "outputs": [
    {
     "name": "stderr",
     "output_type": "stream",
     "text": [
      "C:\\Users\\chara\\AppData\\Local\\Programs\\Python\\Python39\\lib\\site-packages\\sklearn\\utils\\deprecation.py:87: FutureWarning: Function get_feature_names is deprecated; get_feature_names is deprecated in 1.0 and will be removed in 1.2. Please use get_feature_names_out instead.\n",
      "  warnings.warn(msg, category=FutureWarning)\n"
     ]
    },
    {
     "data": {
      "text/html": [
       "<div>\n",
       "<style scoped>\n",
       "    .dataframe tbody tr th:only-of-type {\n",
       "        vertical-align: middle;\n",
       "    }\n",
       "\n",
       "    .dataframe tbody tr th {\n",
       "        vertical-align: top;\n",
       "    }\n",
       "\n",
       "    .dataframe thead th {\n",
       "        text-align: right;\n",
       "    }\n",
       "</style>\n",
       "<table border=\"1\" class=\"dataframe\">\n",
       "  <thead>\n",
       "    <tr style=\"text-align: right;\">\n",
       "      <th></th>\n",
       "      <th>abuses</th>\n",
       "      <th>abuses power</th>\n",
       "      <th>accept</th>\n",
       "      <th>accept beautiful</th>\n",
       "      <th>accusations</th>\n",
       "      <th>accusations united</th>\n",
       "      <th>acknowledging</th>\n",
       "      <th>acknowledging gift</th>\n",
       "      <th>act</th>\n",
       "      <th>act acted</th>\n",
       "      <th>...</th>\n",
       "      <th>year country</th>\n",
       "      <th>year old</th>\n",
       "      <th>yemen</th>\n",
       "      <th>yemen left</th>\n",
       "      <th>yet</th>\n",
       "      <th>yet another</th>\n",
       "      <th>zinke</th>\n",
       "      <th>zinke acknowledging</th>\n",
       "      <th>zinke apologized</th>\n",
       "      <th>zinke plans</th>\n",
       "    </tr>\n",
       "  </thead>\n",
       "  <tbody>\n",
       "    <tr>\n",
       "      <th>0</th>\n",
       "      <td>0</td>\n",
       "      <td>0</td>\n",
       "      <td>0</td>\n",
       "      <td>0</td>\n",
       "      <td>0</td>\n",
       "      <td>0</td>\n",
       "      <td>0</td>\n",
       "      <td>0</td>\n",
       "      <td>0</td>\n",
       "      <td>0</td>\n",
       "      <td>...</td>\n",
       "      <td>1</td>\n",
       "      <td>1</td>\n",
       "      <td>0</td>\n",
       "      <td>0</td>\n",
       "      <td>0</td>\n",
       "      <td>0</td>\n",
       "      <td>0</td>\n",
       "      <td>0</td>\n",
       "      <td>0</td>\n",
       "      <td>0</td>\n",
       "    </tr>\n",
       "    <tr>\n",
       "      <th>1</th>\n",
       "      <td>0</td>\n",
       "      <td>0</td>\n",
       "      <td>0</td>\n",
       "      <td>0</td>\n",
       "      <td>0</td>\n",
       "      <td>0</td>\n",
       "      <td>0</td>\n",
       "      <td>0</td>\n",
       "      <td>0</td>\n",
       "      <td>0</td>\n",
       "      <td>...</td>\n",
       "      <td>0</td>\n",
       "      <td>0</td>\n",
       "      <td>0</td>\n",
       "      <td>0</td>\n",
       "      <td>1</td>\n",
       "      <td>1</td>\n",
       "      <td>0</td>\n",
       "      <td>0</td>\n",
       "      <td>0</td>\n",
       "      <td>0</td>\n",
       "    </tr>\n",
       "    <tr>\n",
       "      <th>2</th>\n",
       "      <td>0</td>\n",
       "      <td>0</td>\n",
       "      <td>0</td>\n",
       "      <td>0</td>\n",
       "      <td>0</td>\n",
       "      <td>0</td>\n",
       "      <td>0</td>\n",
       "      <td>0</td>\n",
       "      <td>0</td>\n",
       "      <td>0</td>\n",
       "      <td>...</td>\n",
       "      <td>0</td>\n",
       "      <td>0</td>\n",
       "      <td>0</td>\n",
       "      <td>0</td>\n",
       "      <td>0</td>\n",
       "      <td>0</td>\n",
       "      <td>0</td>\n",
       "      <td>0</td>\n",
       "      <td>0</td>\n",
       "      <td>0</td>\n",
       "    </tr>\n",
       "    <tr>\n",
       "      <th>3</th>\n",
       "      <td>1</td>\n",
       "      <td>1</td>\n",
       "      <td>1</td>\n",
       "      <td>1</td>\n",
       "      <td>0</td>\n",
       "      <td>0</td>\n",
       "      <td>1</td>\n",
       "      <td>1</td>\n",
       "      <td>1</td>\n",
       "      <td>1</td>\n",
       "      <td>...</td>\n",
       "      <td>0</td>\n",
       "      <td>0</td>\n",
       "      <td>0</td>\n",
       "      <td>0</td>\n",
       "      <td>0</td>\n",
       "      <td>0</td>\n",
       "      <td>3</td>\n",
       "      <td>1</td>\n",
       "      <td>1</td>\n",
       "      <td>1</td>\n",
       "    </tr>\n",
       "    <tr>\n",
       "      <th>4</th>\n",
       "      <td>0</td>\n",
       "      <td>0</td>\n",
       "      <td>0</td>\n",
       "      <td>0</td>\n",
       "      <td>1</td>\n",
       "      <td>1</td>\n",
       "      <td>0</td>\n",
       "      <td>0</td>\n",
       "      <td>0</td>\n",
       "      <td>0</td>\n",
       "      <td>...</td>\n",
       "      <td>0</td>\n",
       "      <td>0</td>\n",
       "      <td>1</td>\n",
       "      <td>1</td>\n",
       "      <td>0</td>\n",
       "      <td>0</td>\n",
       "      <td>0</td>\n",
       "      <td>0</td>\n",
       "      <td>0</td>\n",
       "      <td>0</td>\n",
       "    </tr>\n",
       "  </tbody>\n",
       "</table>\n",
       "<p>5 rows × 846 columns</p>\n",
       "</div>"
      ],
      "text/plain": [
       "   abuses  abuses power  accept  accept beautiful  accusations  \\\n",
       "0       0             0       0                 0            0   \n",
       "1       0             0       0                 0            0   \n",
       "2       0             0       0                 0            0   \n",
       "3       1             1       1                 1            0   \n",
       "4       0             0       0                 0            1   \n",
       "\n",
       "   accusations united  acknowledging  acknowledging gift  act  act acted  ...  \\\n",
       "0                   0              0                   0    0          0  ...   \n",
       "1                   0              0                   0    0          0  ...   \n",
       "2                   0              0                   0    0          0  ...   \n",
       "3                   0              1                   1    1          1  ...   \n",
       "4                   1              0                   0    0          0  ...   \n",
       "\n",
       "   year country  year old  yemen  yemen left  yet  yet another  zinke  \\\n",
       "0             1         1      0           0    0            0      0   \n",
       "1             0         0      0           0    1            1      0   \n",
       "2             0         0      0           0    0            0      0   \n",
       "3             0         0      0           0    0            0      3   \n",
       "4             0         0      1           1    0            0      0   \n",
       "\n",
       "   zinke acknowledging  zinke apologized  zinke plans  \n",
       "0                    0                 0            0  \n",
       "1                    0                 0            0  \n",
       "2                    0                 0            0  \n",
       "3                    1                 1            1  \n",
       "4                    0                 0            0  \n",
       "\n",
       "[5 rows x 846 columns]"
      ]
     },
     "execution_count": 122,
     "metadata": {},
     "output_type": "execute_result"
    }
   ],
   "source": [
    "vec = CountVectorizer(token_pattern=r\"([a-zA-Z]+(?:'[a-z]+)?)\", stop_words=stopwords_list, ngram_range=[1,2]) #<- Allowing bigrams\n",
    "X = vec.fit_transform(corpus.body[0:5])\n",
    "df = pd.DataFrame(X.toarray(), columns = vec.get_feature_names())\n",
    "df.head()"
   ]
  },
  {
   "cell_type": "code",
   "execution_count": 123,
   "id": "47ebf07e",
   "metadata": {},
   "outputs": [],
   "source": [
    "# Term Frequency-Inverse Document Frequency (TF-IDF)"
   ]
  },
  {
   "cell_type": "markdown",
   "id": "f8f2fbd0",
   "metadata": {},
   "source": [
    "TF-IDF scales down the frequencies of tokens to represent how important a word is.\n",
    "- TF (Term Frequency) — frequency of the word in a single document divided by the total number of words in the document.\n",
    "- IDF (Inverse Document Frequency) — measure of how much information is provided by a term. IDF can be calculated by taking the total number of documents in the corpus, dividing by the number of documents the term appears in, and taking the logarithm of the result.\n",
    "- TF-IDF — Term Frequency and the Inverse Document Frequency multiplied together"
   ]
  },
  {
   "cell_type": "code",
   "execution_count": 124,
   "id": "85b18762",
   "metadata": {
    "scrolled": true
   },
   "outputs": [
    {
     "name": "stderr",
     "output_type": "stream",
     "text": [
      "C:\\Users\\chara\\AppData\\Local\\Programs\\Python\\Python39\\lib\\site-packages\\sklearn\\utils\\deprecation.py:87: FutureWarning: Function get_feature_names is deprecated; get_feature_names is deprecated in 1.0 and will be removed in 1.2. Please use get_feature_names_out instead.\n",
      "  warnings.warn(msg, category=FutureWarning)\n"
     ]
    },
    {
     "data": {
      "text/html": [
       "<div>\n",
       "<style scoped>\n",
       "    .dataframe tbody tr th:only-of-type {\n",
       "        vertical-align: middle;\n",
       "    }\n",
       "\n",
       "    .dataframe tbody tr th {\n",
       "        vertical-align: top;\n",
       "    }\n",
       "\n",
       "    .dataframe thead th {\n",
       "        text-align: right;\n",
       "    }\n",
       "</style>\n",
       "<table border=\"1\" class=\"dataframe\">\n",
       "  <thead>\n",
       "    <tr style=\"text-align: right;\">\n",
       "      <th></th>\n",
       "      <th>aa</th>\n",
       "      <th>aaaaaaah</th>\n",
       "      <th>aaaaaah</th>\n",
       "      <th>aaaaargh</th>\n",
       "      <th>aaaah</th>\n",
       "      <th>aaah</th>\n",
       "      <th>aaargh</th>\n",
       "      <th>aah</th>\n",
       "      <th>aahing</th>\n",
       "      <th>aap</th>\n",
       "      <th>...</th>\n",
       "      <th>zoos</th>\n",
       "      <th>zor</th>\n",
       "      <th>zozovitch</th>\n",
       "      <th>zte</th>\n",
       "      <th>zuckerberg</th>\n",
       "      <th>zuercher</th>\n",
       "      <th>zverev</th>\n",
       "      <th>zych</th>\n",
       "      <th>zzouss</th>\n",
       "      <th>zzzzzst</th>\n",
       "    </tr>\n",
       "  </thead>\n",
       "  <tbody>\n",
       "    <tr>\n",
       "      <th>0</th>\n",
       "      <td>0.0</td>\n",
       "      <td>0.0</td>\n",
       "      <td>0.0</td>\n",
       "      <td>0.0</td>\n",
       "      <td>0.0</td>\n",
       "      <td>0.0</td>\n",
       "      <td>0.0</td>\n",
       "      <td>0.0</td>\n",
       "      <td>0.0</td>\n",
       "      <td>0.0</td>\n",
       "      <td>...</td>\n",
       "      <td>0.0</td>\n",
       "      <td>0.0</td>\n",
       "      <td>0.0</td>\n",
       "      <td>0.0</td>\n",
       "      <td>0.0</td>\n",
       "      <td>0.0</td>\n",
       "      <td>0.0</td>\n",
       "      <td>0.0</td>\n",
       "      <td>0.0</td>\n",
       "      <td>0.0</td>\n",
       "    </tr>\n",
       "    <tr>\n",
       "      <th>1</th>\n",
       "      <td>0.0</td>\n",
       "      <td>0.0</td>\n",
       "      <td>0.0</td>\n",
       "      <td>0.0</td>\n",
       "      <td>0.0</td>\n",
       "      <td>0.0</td>\n",
       "      <td>0.0</td>\n",
       "      <td>0.0</td>\n",
       "      <td>0.0</td>\n",
       "      <td>0.0</td>\n",
       "      <td>...</td>\n",
       "      <td>0.0</td>\n",
       "      <td>0.0</td>\n",
       "      <td>0.0</td>\n",
       "      <td>0.0</td>\n",
       "      <td>0.0</td>\n",
       "      <td>0.0</td>\n",
       "      <td>0.0</td>\n",
       "      <td>0.0</td>\n",
       "      <td>0.0</td>\n",
       "      <td>0.0</td>\n",
       "    </tr>\n",
       "    <tr>\n",
       "      <th>2</th>\n",
       "      <td>0.0</td>\n",
       "      <td>0.0</td>\n",
       "      <td>0.0</td>\n",
       "      <td>0.0</td>\n",
       "      <td>0.0</td>\n",
       "      <td>0.0</td>\n",
       "      <td>0.0</td>\n",
       "      <td>0.0</td>\n",
       "      <td>0.0</td>\n",
       "      <td>0.0</td>\n",
       "      <td>...</td>\n",
       "      <td>0.0</td>\n",
       "      <td>0.0</td>\n",
       "      <td>0.0</td>\n",
       "      <td>0.0</td>\n",
       "      <td>0.0</td>\n",
       "      <td>0.0</td>\n",
       "      <td>0.0</td>\n",
       "      <td>0.0</td>\n",
       "      <td>0.0</td>\n",
       "      <td>0.0</td>\n",
       "    </tr>\n",
       "    <tr>\n",
       "      <th>3</th>\n",
       "      <td>0.0</td>\n",
       "      <td>0.0</td>\n",
       "      <td>0.0</td>\n",
       "      <td>0.0</td>\n",
       "      <td>0.0</td>\n",
       "      <td>0.0</td>\n",
       "      <td>0.0</td>\n",
       "      <td>0.0</td>\n",
       "      <td>0.0</td>\n",
       "      <td>0.0</td>\n",
       "      <td>...</td>\n",
       "      <td>0.0</td>\n",
       "      <td>0.0</td>\n",
       "      <td>0.0</td>\n",
       "      <td>0.0</td>\n",
       "      <td>0.0</td>\n",
       "      <td>0.0</td>\n",
       "      <td>0.0</td>\n",
       "      <td>0.0</td>\n",
       "      <td>0.0</td>\n",
       "      <td>0.0</td>\n",
       "    </tr>\n",
       "    <tr>\n",
       "      <th>4</th>\n",
       "      <td>0.0</td>\n",
       "      <td>0.0</td>\n",
       "      <td>0.0</td>\n",
       "      <td>0.0</td>\n",
       "      <td>0.0</td>\n",
       "      <td>0.0</td>\n",
       "      <td>0.0</td>\n",
       "      <td>0.0</td>\n",
       "      <td>0.0</td>\n",
       "      <td>0.0</td>\n",
       "      <td>...</td>\n",
       "      <td>0.0</td>\n",
       "      <td>0.0</td>\n",
       "      <td>0.0</td>\n",
       "      <td>0.0</td>\n",
       "      <td>0.0</td>\n",
       "      <td>0.0</td>\n",
       "      <td>0.0</td>\n",
       "      <td>0.0</td>\n",
       "      <td>0.0</td>\n",
       "      <td>0.0</td>\n",
       "    </tr>\n",
       "  </tbody>\n",
       "</table>\n",
       "<p>5 rows × 23456 columns</p>\n",
       "</div>"
      ],
      "text/plain": [
       "    aa  aaaaaaah  aaaaaah  aaaaargh  aaaah  aaah  aaargh  aah  aahing  aap  \\\n",
       "0  0.0       0.0      0.0       0.0    0.0   0.0     0.0  0.0     0.0  0.0   \n",
       "1  0.0       0.0      0.0       0.0    0.0   0.0     0.0  0.0     0.0  0.0   \n",
       "2  0.0       0.0      0.0       0.0    0.0   0.0     0.0  0.0     0.0  0.0   \n",
       "3  0.0       0.0      0.0       0.0    0.0   0.0     0.0  0.0     0.0  0.0   \n",
       "4  0.0       0.0      0.0       0.0    0.0   0.0     0.0  0.0     0.0  0.0   \n",
       "\n",
       "   ...  zoos  zor  zozovitch  zte  zuckerberg  zuercher  zverev  zych  zzouss  \\\n",
       "0  ...   0.0  0.0        0.0  0.0         0.0       0.0     0.0   0.0     0.0   \n",
       "1  ...   0.0  0.0        0.0  0.0         0.0       0.0     0.0   0.0     0.0   \n",
       "2  ...   0.0  0.0        0.0  0.0         0.0       0.0     0.0   0.0     0.0   \n",
       "3  ...   0.0  0.0        0.0  0.0         0.0       0.0     0.0   0.0     0.0   \n",
       "4  ...   0.0  0.0        0.0  0.0         0.0       0.0     0.0   0.0     0.0   \n",
       "\n",
       "   zzzzzst  \n",
       "0      0.0  \n",
       "1      0.0  \n",
       "2      0.0  \n",
       "3      0.0  \n",
       "4      0.0  \n",
       "\n",
       "[5 rows x 23456 columns]"
      ]
     },
     "execution_count": 124,
     "metadata": {},
     "output_type": "execute_result"
    }
   ],
   "source": [
    "from sklearn.feature_extraction.text import TfidfVectorizer\n",
    "tf_vec = TfidfVectorizer(token_pattern=r\"([a-zA-Z]+(?:'[a-z]+)?)\",    stop_words=stopwords_list)\n",
    "X = tf_vec.fit_transform(corpus.body)\n",
    "df = pd.DataFrame(X.toarray(), columns = tf_vec.get_feature_names())\n",
    "df.head()"
   ]
  },
  {
   "cell_type": "code",
   "execution_count": 125,
   "id": "84fd9e64",
   "metadata": {},
   "outputs": [],
   "source": [
    "# make a function to perform preprocessing steps up until count vectorizing."
   ]
  },
  {
   "cell_type": "code",
   "execution_count": 126,
   "id": "3ecb4718",
   "metadata": {},
   "outputs": [],
   "source": [
    "from nltk.corpus import wordnet\n",
    "from nltk import pos_tag\n",
    "from nltk.stem import WordNetLemmatizer\n",
    "def prepare_doc(doc, stopwords=stopwords_list):\n",
    "    regex_tokenizer = RegexpTokenizer(r\"([a-zA-Z]+(?:’[a-z]+)?)\")\n",
    "    doc = regex_tokenizer.tokenize(doc)\n",
    "    doc = [x.lower() for x in doc]\n",
    "    doc = [x for x in doc if x not in stopwords_list]\n",
    "    doc = pos_tag(doc)\n",
    "    doc = [(x[0], wordnet_tags(x[1])) for x in doc]\n",
    "    #Could stem here instead of lemmatizing\n",
    "    lemma = WordNetLemmatizer() \n",
    "    doc = [lemma.lemmatize(x[0], x[1]) for x in doc]\n",
    "    return ' '.join(doc)"
   ]
  },
  {
   "cell_type": "code",
   "execution_count": 127,
   "id": "e66e86a1",
   "metadata": {},
   "outputs": [],
   "source": [
    "import pandas as pd\n",
    "import numpy as np\n",
    "import matplotlib.pyplot as plt\n",
    "%matplotlib inline\n",
    "import seaborn as sns\n",
    "import nltk\n",
    "from nltk import pos_tag\n",
    "from nltk.corpus import stopwords\n",
    "from nltk.tokenize import regexp_tokenize, word_tokenize, RegexpTokenizer\n",
    "import sklearn.feature_extraction.text \n",
    "from sklearn.feature_extraction.text import TfidfVectorizer, TfidfTransformer, CountVectorizer\n",
    "from sklearn.model_selection import train_test_split\n",
    "from sklearn.pipeline import Pipeline\n",
    "from sklearn.ensemble import RandomForestClassifier\n",
    "from sklearn.metrics import confusion_matrix, mean_squared_error, classification_report\n",
    "from sklearn.metrics import accuracy_score, precision_score, recall_score, f1_score, roc_auc_score"
   ]
  },
  {
   "cell_type": "code",
   "execution_count": 128,
   "id": "86649065",
   "metadata": {},
   "outputs": [],
   "source": [
    "# Loading in the corpus"
   ]
  },
  {
   "cell_type": "code",
   "execution_count": 129,
   "id": "e73776f6",
   "metadata": {},
   "outputs": [
    {
     "data": {
      "text/html": [
       "<div>\n",
       "<style scoped>\n",
       "    .dataframe tbody tr th:only-of-type {\n",
       "        vertical-align: middle;\n",
       "    }\n",
       "\n",
       "    .dataframe tbody tr th {\n",
       "        vertical-align: top;\n",
       "    }\n",
       "\n",
       "    .dataframe thead th {\n",
       "        text-align: right;\n",
       "    }\n",
       "</style>\n",
       "<table border=\"1\" class=\"dataframe\">\n",
       "  <thead>\n",
       "    <tr style=\"text-align: right;\">\n",
       "      <th></th>\n",
       "      <th>body</th>\n",
       "      <th>target</th>\n",
       "    </tr>\n",
       "  </thead>\n",
       "  <tbody>\n",
       "    <tr>\n",
       "      <th>0</th>\n",
       "      <td>Noting that the resignation of James Mattis as...</td>\n",
       "      <td>1</td>\n",
       "    </tr>\n",
       "    <tr>\n",
       "      <th>1</th>\n",
       "      <td>Desperate to unwind after months of nonstop wo...</td>\n",
       "      <td>1</td>\n",
       "    </tr>\n",
       "    <tr>\n",
       "      <th>2</th>\n",
       "      <td>Nearly halfway through his presidential term, ...</td>\n",
       "      <td>1</td>\n",
       "    </tr>\n",
       "    <tr>\n",
       "      <th>3</th>\n",
       "      <td>Attempting to make amends for gross abuses of ...</td>\n",
       "      <td>1</td>\n",
       "    </tr>\n",
       "    <tr>\n",
       "      <th>4</th>\n",
       "      <td>Decrying the Senate’s resolution blaming the c...</td>\n",
       "      <td>1</td>\n",
       "    </tr>\n",
       "    <tr>\n",
       "      <th>5</th>\n",
       "      <td>Following sentencing for his role in a hush-mo...</td>\n",
       "      <td>1</td>\n",
       "    </tr>\n",
       "    <tr>\n",
       "      <th>6</th>\n",
       "      <td>Grimacing and clutching at his shoulder, Fox N...</td>\n",
       "      <td>1</td>\n",
       "    </tr>\n",
       "    <tr>\n",
       "      <th>7</th>\n",
       "      <td>Categorically denying allegations that the tac...</td>\n",
       "      <td>1</td>\n",
       "    </tr>\n",
       "    <tr>\n",
       "      <th>8</th>\n",
       "      <td>Quashing rumors that the team was looking to m...</td>\n",
       "      <td>1</td>\n",
       "    </tr>\n",
       "    <tr>\n",
       "      <th>9</th>\n",
       "      <td>Claiming it was the most humane way to deal wi...</td>\n",
       "      <td>1</td>\n",
       "    </tr>\n",
       "  </tbody>\n",
       "</table>\n",
       "</div>"
      ],
      "text/plain": [
       "                                                body  target\n",
       "0  Noting that the resignation of James Mattis as...       1\n",
       "1  Desperate to unwind after months of nonstop wo...       1\n",
       "2  Nearly halfway through his presidential term, ...       1\n",
       "3  Attempting to make amends for gross abuses of ...       1\n",
       "4  Decrying the Senate’s resolution blaming the c...       1\n",
       "5  Following sentencing for his role in a hush-mo...       1\n",
       "6  Grimacing and clutching at his shoulder, Fox N...       1\n",
       "7  Categorically denying allegations that the tac...       1\n",
       "8  Quashing rumors that the team was looking to m...       1\n",
       "9  Claiming it was the most humane way to deal wi...       1"
      ]
     },
     "execution_count": 129,
     "metadata": {},
     "output_type": "execute_result"
    }
   ],
   "source": [
    "df = pd.read_csv('satire_nosatire.csv')\n",
    "df.head(10)"
   ]
  },
  {
   "cell_type": "code",
   "execution_count": 130,
   "id": "7c6bb627",
   "metadata": {},
   "outputs": [
    {
     "data": {
      "text/plain": [
       "['note resignation james mattis secretary defense mark ouster third top administration official less three week worry populace tell reporter friday unsure many former trump staffer could safely reabsorb jesus can’t take back asshole need time process one get next say year old gregory birch naperville il echo concern million american also note country truly begin reintegrate former national security advisor michael flynn sustainable i’d say handle maybe one two former member trump’s inner circle remainder year that’s country limit u populace confirm could handle piece shit try rejoin society',\n",
       " 'desperate unwind month nonstop work investigate russian influence election visibly exhaust special counsel robert mueller power phone friday order give break news concern probe holiday break last thing want i’m spending time family cascade push notification tell yet another russian oligarch political operative highly place socialite use deutsche bank channel funnel money campaign say former fbi director firmly hold phone’s power button add want completely present moment celebrate love one ruminate meet diplomat whether someone use social medium tamper witness want two calm week don’t even think individual one won’t even say name i’ll wait hear important development january since know second read say something eric involve deeply previously suspect i’ll get pull back ruin whole vacation press time mueller reactivate phone check news real quick']"
      ]
     },
     "execution_count": 130,
     "metadata": {},
     "output_type": "execute_result"
    }
   ],
   "source": [
    "#Defining stopwords\n",
    "stopwords_list = stopwords.words('english')\n",
    "X = df.body\n",
    "#Preprocessing function to remove numbers, stopwords, lowercase the #capitals, generate PoS tags, and lemmatize the text\n",
    "\n",
    "X = [prepare_doc(x, stopwords_list) for x in X]\n",
    "y = df.target\n",
    "X[:2]"
   ]
  },
  {
   "cell_type": "code",
   "execution_count": 131,
   "id": "dad98f90",
   "metadata": {},
   "outputs": [],
   "source": [
    "# Performing train test split"
   ]
  },
  {
   "cell_type": "code",
   "execution_count": 132,
   "id": "1e199ad1",
   "metadata": {},
   "outputs": [],
   "source": [
    "X_train, X_test, y_train, y_test = train_test_split(X, y, random_state=42)"
   ]
  },
  {
   "cell_type": "code",
   "execution_count": 133,
   "id": "8c36fc76",
   "metadata": {},
   "outputs": [],
   "source": [
    "# Creating preprocess pipeline and the full pipeline with a Random Forest Classifier"
   ]
  },
  {
   "cell_type": "code",
   "execution_count": 134,
   "id": "100d44bc",
   "metadata": {},
   "outputs": [],
   "source": [
    "tfidf_vec = Pipeline([('tfidf_vec', TfidfVectorizer())])\n",
    "tfidf = Pipeline([('tfidf', TfidfTransformer())])\n",
    "preprocess = Pipeline([\n",
    "    ('tfidf_vec', tfidf_vec),\n",
    "    ('tfidf', tfidf)\n",
    "])\n",
    "pipe = Pipeline([\n",
    "    ('preprocess', preprocess),\n",
    "    ('clf', RandomForestClassifier())\n",
    "])"
   ]
  },
  {
   "cell_type": "code",
   "execution_count": 135,
   "id": "9cb592e4",
   "metadata": {},
   "outputs": [],
   "source": [
    "# Fitting the pipeline to X_train and y_train"
   ]
  },
  {
   "cell_type": "code",
   "execution_count": 136,
   "id": "07294d01",
   "metadata": {},
   "outputs": [
    {
     "data": {
      "text/plain": [
       "Pipeline(steps=[('preprocess',\n",
       "                 Pipeline(steps=[('tfidf_vec',\n",
       "                                  Pipeline(steps=[('tfidf_vec',\n",
       "                                                   TfidfVectorizer())])),\n",
       "                                 ('tfidf',\n",
       "                                  Pipeline(steps=[('tfidf',\n",
       "                                                   TfidfTransformer())]))])),\n",
       "                ('clf', RandomForestClassifier())])"
      ]
     },
     "execution_count": 136,
     "metadata": {},
     "output_type": "execute_result"
    }
   ],
   "source": [
    "pipe.fit(X_train, y_train)"
   ]
  },
  {
   "cell_type": "markdown",
   "id": "d08853c9",
   "metadata": {},
   "source": [
    "## Predicting on X_test"
   ]
  },
  {
   "cell_type": "code",
   "execution_count": 144,
   "id": "9faedbdc",
   "metadata": {},
   "outputs": [],
   "source": [
    "y_hat = pipe.predict(X_test)"
   ]
  },
  {
   "cell_type": "markdown",
   "id": "7318cdab",
   "metadata": {},
   "source": [
    " Defining evaluation function to plot a confusion matrix and return the accuracy, precision, recall, and f1 scores"
   ]
  },
  {
   "cell_type": "code",
   "execution_count": 140,
   "id": "6a487baa",
   "metadata": {},
   "outputs": [],
   "source": [
    "def evaluation(y, y_hat, title = 'Confusion Matrix'):\n",
    "    cm = confusion_matrix(y, y_hat)\n",
    "    precision = precision_score(y, y_hat)\n",
    "    recall = recall_score(y, y_hat)\n",
    "    accuracy = accuracy_score(y,y_hat)\n",
    "    f1 = f1_score(y,y_hat)\n",
    "    print('Recall: ', recall)\n",
    "    print('Accuracy: ', accuracy)\n",
    "    print('Precision: ', precision)\n",
    "    print('F1: ', f1)\n",
    "    sns.heatmap(cm,  cmap= 'PuBu', annot=True, fmt='g', annot_kws=    {'size':20})\n",
    "    plt.xlabel('predicted', fontsize=18)\n",
    "    plt.ylabel('actual', fontsize=18)\n",
    "    plt.title(title, fontsize=18)\n",
    "    \n",
    "    plt.show();"
   ]
  },
  {
   "cell_type": "markdown",
   "id": "8a045c59",
   "metadata": {},
   "source": [
    "## Evaluating the classifier"
   ]
  },
  {
   "cell_type": "code",
   "execution_count": 142,
   "id": "4d43e8dc",
   "metadata": {},
   "outputs": [
    {
     "name": "stdout",
     "output_type": "stream",
     "text": [
      "Recall:  0.9836065573770492\n",
      "Accuracy:  0.976\n",
      "Precision:  0.967741935483871\n",
      "F1:  0.975609756097561\n"
     ]
    },
    {
     "data": {
      "image/png": "[encoded data removed]",
      "text/plain": [
       "<Figure size 432x288 with 2 Axes>"
      ]
     },
     "metadata": {
      "needs_background": "light"
     },
     "output_type": "display_data"
    }
   ],
   "source": [
    "evaluation(y_test, y_hat)"
   ]
  },
  {
   "cell_type": "markdown",
   "id": "8e9a474e",
   "metadata": {},
   "source": [
    "> End of Program"
   ]
  }
 ],
 "metadata": {
  "kernelspec": {
   "display_name": "Python 3 (ipykernel)",
   "language": "python",
   "name": "python3"
  },
  "language_info": {
   "codemirror_mode": {
    "name": "ipython",
    "version": 3
   },
   "file_extension": ".py",
   "mimetype": "text/x-python",
   "name": "python",
   "nbconvert_exporter": "python",
   "pygments_lexer": "ipython3",
   "version": "3.9.7"
  }
 },
 "nbformat": 4,
 "nbformat_minor": 5
}
