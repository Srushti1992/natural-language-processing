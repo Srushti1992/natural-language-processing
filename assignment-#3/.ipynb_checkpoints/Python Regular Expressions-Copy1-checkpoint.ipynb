{
 "cells": [
  {
   "cell_type": "markdown",
   "id": "f388b3eb",
   "metadata": {},
   "source": [
    "### Python Built-in Module for Regular Expressions\n",
    "Python has a built-in module to work with regular expressions called “re”. Some common methods from this module are-\n",
    "\n",
    "- re.match()\n",
    "- re.search()\n",
    "- re.findall()"
   ]
  },
  {
   "cell_type": "code",
   "execution_count": 29,
   "id": "8d6594f0",
   "metadata": {},
   "outputs": [
    {
     "name": "stdout",
     "output_type": "stream",
     "text": [
      "<re.Match object; span=(0, 9), match='Analytics'>\n"
     ]
    }
   ],
   "source": [
    "### re.match(pattern, string)\n",
    "### The re.match function returns a match object on success and none on failure.\n",
    "\n",
    "import re\n",
    "\n",
    "#match a word at the beginning of a string\n",
    "\n",
    "result = re.match('Analytics',r'Analytics Vidhya is the largest data science community of India')\n",
    "print(result)"
   ]
  },
  {
   "cell_type": "code",
   "execution_count": 30,
   "id": "57cee8b3",
   "metadata": {},
   "outputs": [
    {
     "name": "stdout",
     "output_type": "stream",
     "text": [
      "Analytics\n"
     ]
    }
   ],
   "source": [
    "print(result.group()) #returns the total matches"
   ]
  },
  {
   "cell_type": "code",
   "execution_count": 31,
   "id": "c40a469e",
   "metadata": {},
   "outputs": [
    {
     "name": "stdout",
     "output_type": "stream",
     "text": [
      "None\n"
     ]
    }
   ],
   "source": [
    "result_2 = re.match('largest',r'Analytics Vidhya is the largest data science community of India')\n",
    "print(result_2)"
   ]
  },
  {
   "cell_type": "code",
   "execution_count": 33,
   "id": "3fc469c0",
   "metadata": {},
   "outputs": [
    {
     "name": "stdout",
     "output_type": "stream",
     "text": [
      "founded\n"
     ]
    }
   ],
   "source": [
    "### re.search(pattern, string)\n",
    "### Matches the first occurrence of a pattern in the entire string(and not just at the beginning).\n",
    "\n",
    "result = re.search('founded',r'Andrew NG founded Coursera. He also founded deeplearning.ai')\n",
    "print(result.group())"
   ]
  },
  {
   "cell_type": "code",
   "execution_count": 32,
   "id": "4285c070",
   "metadata": {},
   "outputs": [
    {
     "name": "stdout",
     "output_type": "stream",
     "text": [
      "['founded', 'founded']\n"
     ]
    }
   ],
   "source": [
    "### re.findall(pattern, string)\n",
    "### It will return all the occurrences of the pattern from the string. I would recommend you to use re.findall() always, it can work like both re.search() and re.match().\n",
    "\n",
    "result = re.findall('founded',r'Andrew NG founded Coursera. He also founded deeplearning.ai')\n",
    "print(result)"
   ]
  },
  {
   "cell_type": "markdown",
   "id": "915eb98b",
   "metadata": {},
   "source": [
    "## Special Sequences in Regular Expressions"
   ]
  },
  {
   "cell_type": "code",
   "execution_count": 34,
   "id": "78350abb",
   "metadata": {},
   "outputs": [
    {
     "name": "stdout",
     "output_type": "stream",
     "text": [
      "['est']\n"
     ]
    }
   ],
   "source": [
    "## \\b\n",
    "## \\b returns a match where the specified pattern is at the beginning or at the end of a word.\n",
    "\n",
    "str = r'Analytics Vidhya is the largest Analytics community of India'\n",
    "\n",
    "#Check if there is any word that ends with \"est\"\n",
    "\n",
    "x = re.findall(r\"est\\b\", str)\n",
    "print(x)"
   ]
  },
  {
   "cell_type": "code",
   "execution_count": 38,
   "id": "99138333",
   "metadata": {},
   "outputs": [
    {
     "name": "stdout",
     "output_type": "stream",
     "text": [
      "['2', '1', '9']\n",
      "Yes, there is at least one match!\n"
     ]
    }
   ],
   "source": [
    "### \\d\n",
    "### \\d returns a match where the string contains digits (numbers from 0-9).\n",
    "\n",
    "str = \"2 million monthly visits in Jan'19.\"\n",
    "\n",
    "#Check if the string contains any digits (numbers from 0-9):\n",
    "\n",
    "x = re.findall(\"\\d\", str)\n",
    "print(x)\n",
    "\n",
    "if (x):\n",
    "    print(\"Yes, there is at least one match!\")\n",
    "else:\n",
    "    print(\"No match\")"
   ]
  },
  {
   "cell_type": "code",
   "execution_count": 41,
   "id": "35fb6272",
   "metadata": {},
   "outputs": [
    {
     "name": "stdout",
     "output_type": "stream",
     "text": [
      "['2', '1', '9']\n",
      "Yes, there is at least one match!\n"
     ]
    }
   ],
   "source": [
    "### \\d\n",
    "### \\d returns a match where the string contains digits (numbers from 0-9).\n",
    "\n",
    "str_ = \"2 million monthly visits in Jan'19.\"\n",
    "\n",
    "#Check if the string contains any digits (numbers from 0-9):\n",
    "\n",
    "x = re.findall(\"\\d\", str_)\n",
    "print(x)\n",
    "\n",
    "if (x):\n",
    "    print(\"Yes, there is at least one match!\")\n",
    "else:\n",
    "    print(\"No match\")"
   ]
  },
  {
   "cell_type": "code",
   "execution_count": 42,
   "id": "333c6d5f",
   "metadata": {},
   "outputs": [
    {
     "name": "stdout",
     "output_type": "stream",
     "text": [
      "['2', '19']\n",
      "Yes, there is at least one match!\n"
     ]
    }
   ],
   "source": [
    "# Check if the string contains any digits (numbers from 0-9):\n",
    "# adding '+' after '\\d' will continue to extract digits till encounters a space\n",
    "\n",
    "x = re.findall(\"\\d+\", str_)\n",
    "print(x)\n",
    "\n",
    "if (x):\n",
    "    print(\"Yes, there is at least one match!\")\n",
    "else:\n",
    "    print(\"No match\")\n",
    " "
   ]
  },
  {
   "cell_type": "code",
   "execution_count": 43,
   "id": "aa133e76",
   "metadata": {},
   "outputs": [
    {
     "name": "stdout",
     "output_type": "stream",
     "text": [
      "[' ', 'm', 'i', 'l', 'l', 'i', 'o', 'n', ' ', 'm', 'o', 'n', 't', 'h', 'l', 'y', ' ', 'v', 'i', 's', 'i', 't', 's', ' ', 'i', 'n', ' ', 'J', 'a', 'n', \"'\", '.']\n",
      "Yes, there is at least one match!\n"
     ]
    }
   ],
   "source": [
    "### \\D\n",
    "### \\D returns a match where the string does not contain any digit. It is basically the opposite of \\d.\n",
    "\n",
    "str_ = \"2 million monthly visits in Jan'19.\"\n",
    "\n",
    "#Check if the word character does not contain any digits (numbers from 0-9):\n",
    "\n",
    "x = re.findall(\"\\D\", str_)\n",
    "print(x)\n",
    "\n",
    "if (x):\n",
    "    print(\"Yes, there is at least one match!\")\n",
    "else:\n",
    "    print(\"No match\")"
   ]
  },
  {
   "cell_type": "code",
   "execution_count": 44,
   "id": "7c1e45a9",
   "metadata": {},
   "outputs": [
    {
     "name": "stdout",
     "output_type": "stream",
     "text": [
      "[\" million monthly visits in Jan'\", '.']\n",
      "Yes, there is at least one match!\n"
     ]
    }
   ],
   "source": [
    "#Check if the word does not contain any digits (numbers from 0-9):\n",
    "\n",
    "x = re.findall(\"\\D+\", str)\n",
    "print(x)\n",
    "\n",
    "if (x):\n",
    "    print(\"Yes, there is at least one match!\")\n",
    "else:\n",
    "    print(\"No match\")"
   ]
  },
  {
   "cell_type": "code",
   "execution_count": 45,
   "id": "a8cd7cf2",
   "metadata": {},
   "outputs": [
    {
     "name": "stdout",
     "output_type": "stream",
     "text": [
      "['2', 'million', 'monthly', 'visits']\n",
      "Yes, there is at least one match!\n"
     ]
    }
   ],
   "source": [
    "### \\w\n",
    "### \\w helps in extraction of alphanumeric characters only (characters from a to Z, digits from 0-9, and the underscore _ character)\n",
    "\n",
    "str_ = \"2 million monthly visits!\"\n",
    "\n",
    "#returns a match at every word character (characters from a to Z, digits from 0-9, and the underscore _ character)\n",
    "\n",
    "x = re.findall(\"\\w+\",str_)\n",
    "print(x)\n",
    "\n",
    "if (x):\n",
    "    print(\"Yes, there is at least one match!\")\n",
    "else:\n",
    "    print(\"No match\")\n",
    "    "
   ]
  },
  {
   "cell_type": "code",
   "execution_count": 46,
   "id": "f30f8e9b",
   "metadata": {},
   "outputs": [
    {
     "name": "stdout",
     "output_type": "stream",
     "text": [
      "[' ', ' ', ' ', ' ', ' ', \"'\", '.']\n",
      "Yes, there is at least one match!\n"
     ]
    }
   ],
   "source": [
    "### \\W\n",
    "### \\W returns match at every non-alphanumeric character. Basically opposite of \\w.\n",
    "\n",
    "str_ = \"2 million monthly visits9!\"\n",
    "\n",
    "#returns a match at every NON word character (characters NOT between a and Z. Like \"!\", \"?\" white-space etc.):\n",
    "\n",
    "x = re.findall(\"\\W\", str)\n",
    "print(x)\n",
    "\n",
    "if (x):\n",
    "    print(\"Yes, there is at least one match!\")\n",
    "else:\n",
    "    print(\"No match\")\n",
    "    "
   ]
  },
  {
   "cell_type": "markdown",
   "id": "8e0b6b55",
   "metadata": {},
   "source": [
    "# Metacharacters in Regular Expression"
   ]
  },
  {
   "cell_type": "code",
   "execution_count": 47,
   "id": "41f580b1",
   "metadata": {},
   "outputs": [
    {
     "name": "stdout",
     "output_type": "stream",
     "text": [
      "['roh', 'roh']\n",
      "['rohan', 'rohit']\n"
     ]
    }
   ],
   "source": [
    "## (.) matches any character (except newline character)\n",
    "\n",
    "str_ = \"rohan and rohit recently published a research paper!\"\n",
    "\n",
    "#Search for a string that starts with \"ro\", followed by any number of characters\n",
    "\n",
    "x = re.findall(\"ro.\", str_)           #searches one character after ro\n",
    "x2 = re.findall(\"ro...\", str_)        #searches three characters after ro\n",
    "\n",
    "print(x)\n",
    "print(x2)"
   ]
  },
  {
   "cell_type": "code",
   "execution_count": 48,
   "id": "f85f7367",
   "metadata": {},
   "outputs": [
    {
     "name": "stdout",
     "output_type": "stream",
     "text": [
      "Yes, the string starts with 'Data'\n",
      "No match\n"
     ]
    }
   ],
   "source": [
    "### (^) starts with\n",
    "### It checks whether the string starts with the given pattern or not.\n",
    "\n",
    "str_ = \"Data Science\"\n",
    "\n",
    "#Check if the string starts with 'Data':\n",
    "\n",
    "x = re.findall(\"^Data\", str_)\n",
    "\n",
    "if (x):\n",
    "    print(\"Yes, the string starts with 'Data'\")\n",
    "else:\n",
    "    print(\"No match\")\n",
    "\n",
    "# try with a different string\n",
    "\n",
    "str2 = \"Big Data\"\n",
    "\n",
    "#Check if the string starts with 'Data':\n",
    "\n",
    "x2 = re.findall(\"^Data\", str2)\n",
    "\n",
    "if (x2):\n",
    "    print(\"Yes, the string starts with 'data'\")\n",
    "else:\n",
    "    print(\"No match\")\n",
    "    "
   ]
  },
  {
   "cell_type": "code",
   "execution_count": 49,
   "id": "ffb1d62d",
   "metadata": {},
   "outputs": [
    {
     "name": "stdout",
     "output_type": "stream",
     "text": [
      "Yes, the string ends with 'Science'\n"
     ]
    }
   ],
   "source": [
    "### ($) ends with\n",
    "### It checks whether the string ends with the given pattern or not.\n",
    "\n",
    "str_ = \"Data Science\"\n",
    "\n",
    "#Check if the string ends with 'Science':\n",
    "\n",
    "x = re.findall(\"Science$\", str_)\n",
    "\n",
    "if (x):\n",
    "    print(\"Yes, the string ends with 'Science'\")\n",
    "else:\n",
    "    print(\"No match\")"
   ]
  },
  {
   "cell_type": "code",
   "execution_count": 50,
   "id": "9766a58f",
   "metadata": {},
   "outputs": [
    {
     "name": "stdout",
     "output_type": "stream",
     "text": [
      "['easy', 'easssy', 'eay']\n",
      "Yes, there is at least one match!\n"
     ]
    }
   ],
   "source": [
    "### (*) matches for zero or more occurrences of the pattern to the left of it\n",
    "str_ = \"easy easssy eay ey\"\n",
    "\n",
    "#Check if the string contains \"ea\" followed by 0 or more \"s\" characters and ending with y\n",
    "\n",
    "x = re.findall(\"eas*y\", str_)\n",
    "print(x)\n",
    "\n",
    "if (x):\n",
    "    print(\"Yes, there is at least one match!\")\n",
    "else:\n",
    "    print(\"No match\")"
   ]
  },
  {
   "cell_type": "code",
   "execution_count": 51,
   "id": "74154064",
   "metadata": {},
   "outputs": [
    {
     "name": "stdout",
     "output_type": "stream",
     "text": [
      "['easy', 'easssy']\n",
      "Yes, there is at least one match!\n"
     ]
    }
   ],
   "source": [
    "### (+) matches one or more occurrences of the pattern to the left of it\n",
    "### Check if the string contains \"ea\" followed by 1 or more \"s\" characters and ends with y\n",
    "\n",
    "x = re.findall(\"eas+y\", str_)\n",
    "print(x)\n",
    "\n",
    "if (x):\n",
    "    print(\"Yes, there is at least one match!\")\n",
    "else:\n",
    "    print(\"No match\")"
   ]
  },
  {
   "cell_type": "code",
   "execution_count": 52,
   "id": "f8104b3c",
   "metadata": {},
   "outputs": [
    {
     "name": "stdout",
     "output_type": "stream",
     "text": [
      "['easy', 'eay']\n",
      "Yes, there is at least one match!\n"
     ]
    }
   ],
   "source": [
    "### (?) matches zero or one occurrence of the pattern left to it.\n",
    "x = re.findall(\"eas?y\",str_)\n",
    "print(x)\n",
    "\n",
    "if (x):\n",
    "    print(\"Yes, there is at least one match!\")\n",
    "else:\n",
    "    print(\"No match\")"
   ]
  },
  {
   "cell_type": "code",
   "execution_count": 53,
   "id": "1be67acc",
   "metadata": {},
   "outputs": [
    {
     "name": "stdout",
     "output_type": "stream",
     "text": [
      "['data', 'India']\n",
      "Yes, there is at least one match!\n"
     ]
    }
   ],
   "source": [
    "### (|) either or\n",
    "str_ = \"Analytics Vidhya is the largest data science community of India\"\n",
    "\n",
    "#Check if the string contains either \"data\" or \"India\":\n",
    "\n",
    "x = re.findall(\"data|India\", str_)\n",
    "print(x)\n",
    "\n",
    "if (x):\n",
    "    print(\"Yes, there is at least one match!\")\n",
    "else:\n",
    "    print(\"No match\")"
   ]
  },
  {
   "cell_type": "code",
   "execution_count": 54,
   "id": "9e31faf1",
   "metadata": {},
   "outputs": [
    {
     "name": "stdout",
     "output_type": "stream",
     "text": [
      "['data']\n",
      "Yes, there is at least one match!\n"
     ]
    }
   ],
   "source": [
    "# try with a different string\n",
    "\n",
    "str_ = \"Analytics Vidhya is one of the largest data science communities\"\n",
    "\n",
    "#Check if the string contains either \"data\" or \"India\":\n",
    "\n",
    "x = re.findall(\"data|India\", str_)\n",
    "print(x)\n",
    "\n",
    "if (x):\n",
    "    print(\"Yes, there is at least one match!\")\n",
    "else:\n",
    "    print(\"No match\")"
   ]
  },
  {
   "cell_type": "markdown",
   "id": "87e1836d",
   "metadata": {},
   "source": [
    "> End of Program"
   ]
  },
  {
   "cell_type": "markdown",
   "id": "0adafdfb",
   "metadata": {},
   "source": [
    "____"
   ]
  },
  {
   "cell_type": "markdown",
   "id": "50f90c55",
   "metadata": {},
   "source": [
    "# Regular Expressions\n",
    "\n",
    "Regular Expressions, “regex” for short, is a pattern describing a certain amount of text (Goyvaerts). \n",
    "This tool allows us to filter through and pull information from a text document without having to physically read it. Regex is especially helpful when tokenizing text by defining the rules for where strings will be split into tokens. The regular expressions library contains many useful tools:"
   ]
  },
  {
   "cell_type": "markdown",
   "id": "4a330d09",
   "metadata": {},
   "source": [
    "## Ranges — [A-Z] [A-Za-z0-9]\n",
    "Instead of typing every letter in the alphabet, we can use a range from a-z. \n",
    "\n",
    "The left pattern above, [A-Z], will match on any uppercase letter. The pattern on the right, [A-Za-z0-9], will match on any uppercase letter, lowercase letter, and digit."
   ]
  },
  {
   "cell_type": "markdown",
   "id": "87539da2",
   "metadata": {},
   "source": [
    "## Character Classes — \\w \\W \\d\n",
    "Character classes, in a way, are similar to ranges. Think of these as a shortcut to ranges. \n",
    "\n",
    "The \\w class would find any lowercase word and the \\d class would match on any digit."
   ]
  },
  {
   "cell_type": "markdown",
   "id": "aff093ed",
   "metadata": {},
   "source": [
    "## Groups — (A-Z0-9)\n",
    "Also similar to ranges, but require more specificity to match. \n",
    "The pattern above (A-Z0-9) can only match on that exact sequence."
   ]
  },
  {
   "cell_type": "markdown",
   "id": "31a5b399",
   "metadata": {},
   "source": [
    "## Quantifiers — {*} {+} {?}\n",
    "Work hand in hand with groups, giving us the ability to specify the amount of times a group need to appear in order to match. \n",
    "\n",
    "The {*} will match on a group that occurs 0 or more times, {+}, 1 or more times, and {?} 0 or 1 times."
   ]
  },
  {
   "cell_type": "markdown",
   "id": "aa87ca61",
   "metadata": {},
   "source": [
    "> End of Program"
   ]
  }
 ],
 "metadata": {
  "kernelspec": {
   "display_name": "Python 3 (ipykernel)",
   "language": "python",
   "name": "python3"
  },
  "language_info": {
   "codemirror_mode": {
    "name": "ipython",
    "version": 3
   },
   "file_extension": ".py",
   "mimetype": "text/x-python",
   "name": "python",
   "nbconvert_exporter": "python",
   "pygments_lexer": "ipython3",
   "version": "3.9.7"
  }
 },
 "nbformat": 4,
 "nbformat_minor": 5
}
