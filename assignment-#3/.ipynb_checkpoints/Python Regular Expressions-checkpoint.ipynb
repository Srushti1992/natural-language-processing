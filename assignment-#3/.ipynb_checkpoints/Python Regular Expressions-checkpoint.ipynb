{
 "cells": [
  {
   "cell_type": "markdown",
   "id": "aa29e062",
   "metadata": {},
   "source": [
    "# Match\n",
    "This function attempts to match RE pattern to string with optional flags.\n",
    "\n",
    "Here is the syntax for this function −\n",
    "\n",
    "<pre>\n",
    "    re.match(pattern, string, flags=0)\n",
    "</pre>"
   ]
  },
  {
   "cell_type": "code",
   "execution_count": 23,
   "id": "7be83aec",
   "metadata": {},
   "outputs": [
    {
     "name": "stdout",
     "output_type": "stream",
     "text": [
      "matchObj.group() :  Cats are smarter than dogs\n",
      "matchObj.group(1) :  Cats\n",
      "matchObj.group(2) :  smarter\n"
     ]
    }
   ],
   "source": [
    "import re\n",
    "\n",
    "line = \"Cats are smarter than dogs\"\n",
    "\n",
    "matchObj = re.match( r'(.*) are (.*?) .*', line, re.M|re.I)\n",
    "\n",
    "if matchObj:\n",
    "    print(\"matchObj.group() : \", matchObj.group())\n",
    "    print(\"matchObj.group(1) : \", matchObj.group(1))\n",
    "    print(\"matchObj.group(2) : \", matchObj.group(2))\n",
    "else:\n",
    "    print(\"No match!!\")"
   ]
  },
  {
   "cell_type": "markdown",
   "id": "3bf9d094",
   "metadata": {},
   "source": [
    "# The search Function\n",
    "This function searches for first occurrence of RE pattern within string with optional flags.\n",
    "\n",
    "Here is the syntax for this function −\n",
    "<pre>\n",
    "    re.search(pattern, string, flags=0)\n",
    " </pre>"
   ]
  },
  {
   "cell_type": "code",
   "execution_count": 24,
   "id": "8ee23f13",
   "metadata": {},
   "outputs": [
    {
     "name": "stdout",
     "output_type": "stream",
     "text": [
      "searchObj.group() :  Cats are smarter than dogs\n",
      "searchObj.group(1) :  Cats\n",
      "searchObj.group(2) :  smarter\n"
     ]
    }
   ],
   "source": [
    "import re\n",
    "\n",
    "line = \"Cats are smarter than dogs\";\n",
    "\n",
    "searchObj = re.search( r'(.*) are (.*?) .*', line, re.M|re.I)\n",
    "\n",
    "if searchObj:\n",
    "    print( \"searchObj.group() : \", searchObj.group())\n",
    "    print(\"searchObj.group(1) : \", searchObj.group(1))\n",
    "    print(\"searchObj.group(2) : \", searchObj.group(2))\n",
    "else:\n",
    "    print(\"Nothing found!!\")"
   ]
  },
  {
   "cell_type": "markdown",
   "id": "cefcb53b",
   "metadata": {},
   "source": [
    "# Search and Replace\n",
    "\n",
    "Syntax\n",
    "re.sub(pattern, repl, string, max=0)\n",
    "\n",
    "This method replaces all occurrences of the RE pattern in string with repl, substituting all occurrences unless max provided. This method returns modified string."
   ]
  },
  {
   "cell_type": "code",
   "execution_count": 16,
   "id": "a877f235",
   "metadata": {},
   "outputs": [],
   "source": [
    "#example"
   ]
  },
  {
   "cell_type": "code",
   "execution_count": 19,
   "id": "3007c61f",
   "metadata": {},
   "outputs": [
    {
     "name": "stdout",
     "output_type": "stream",
     "text": [
      "Phone Num :  2004-959-559 \n",
      "Phone Num :  2004959559\n"
     ]
    }
   ],
   "source": [
    "phone = \"2004-959-559 # This is Phone Number\"\n",
    "# Delete Python-style comments\n",
    "num = re.sub(r'#.*$', \"\", phone)\n",
    "print(\"Phone Num : \", num)\n",
    "\n",
    "# Remove anything other than digits\n",
    "num = re.sub(r'\\D', \"\", phone)    \n",
    "print(\"Phone Num : \", num)"
   ]
  },
  {
   "cell_type": "markdown",
   "id": "12b3e442",
   "metadata": {},
   "source": [
    "# Regular Expression Modifiers: Option Flags\n",
    "|Sl No.| Modifier | Description |\n",
    "|---|------|--------------------|\n",
    "| 1 | re.I | Performs case-insensitive matching. |\n",
    "| 2 | re.L | Interprets words according to the current locale. |\n",
    "| 3 | re.M | Makes $ match the end of a line (not just the end of the string) and makes ^ match the start of any line (not just the start of the string).|\n",
    "| 4 | re.S | Makes a period (dot) match any character, including a newline. |\n",
    "| 5 | re.U | Interprets letters according to the Unicode character set. This flag affects the behavior of \\w, \\W, \\b, \\B. |\n",
    "| 6 | re.X | Permits \"cuter\" regular expression syntax. It ignores whitespace (except inside a set [] or when escaped by a backslash) and treats unescaped # as a comment marker. |"
   ]
  },
  {
   "cell_type": "markdown",
   "id": "d1b5acd1",
   "metadata": {},
   "source": [
    "# Regular Expression Patterns\n",
    "Except for control characters, (+ ? . * ^ $ ( ) [ ] { } | \\), all characters match themselves. You can escape a control character by preceding it with a backslash."
   ]
  },
  {
   "cell_type": "markdown",
   "id": "e46fcf17",
   "metadata": {},
   "source": [
    "|Sl No.| Modifier | Description |\n",
    "|---|------|--------------------|\n",
    "| 1 | ^ |  |\n",
    "| 2 | $ |  |\n",
    "| 3 | . |  |\n",
    "| 4 | [...] |  |\n",
    "| 5 | [^...] |  |\n",
    "| 6 | re* |  |\n",
    "| 7 | re+ |  |\n",
    "| 8 | re? |  |\n",
    "| 9 | re{n} |  |\n",
    "| 10 | re{n,} |  |\n",
    "| 11 | re{n,m} |  |\n",
    "| 12 | a\\|b |  |\n",
    "| 13 | (re) |\n",
    "| 14 | (?imx) |\n",
    "| 15 | (?-imx) |\n",
    "| 16 | (?-re) |\n",
    "| 17 | (?imx:re) |\n",
    "| 18 | (?-imx:re) |\n",
    "| 19 | (?#...) |  |\n",
    "| 20 | (?=re) |  |\n",
    "| 21 | (?!re) |  |\n",
    "| 22 | (?>re |  |\n",
    "| 23 | \\w |  |\n",
    "| 24 | \\W |  | \n",
    "| 25 | \\s |  |\n",
    "| 26 | \\S |  |\n",
    "| 27 | \\d |  |\n",
    "| 28 | \\D |  |\n",
    "| 29 | \\A |  |\n",
    "| 30 | \\Z |  |\n",
    "| 31 | \\z |  |\n",
    "| 31 | \\G |  |\n",
    "| 32 | \\b |  |\n",
    "| 33 | \\B |  |\n",
    "| 34 | \\n, \\t, ect. |  |\n",
    "| 35 | \\1...\\9 |  |\n",
    "| 36 | \\10 |  |"
   ]
  },
  {
   "cell_type": "markdown",
   "id": "57045bd3",
   "metadata": {},
   "source": [
    "# Regular Expression Examples"
   ]
  },
  {
   "cell_type": "code",
   "execution_count": 2,
   "id": "56d1fc2c",
   "metadata": {},
   "outputs": [],
   "source": [
    "import re"
   ]
  },
  {
   "cell_type": "markdown",
   "id": "487fe5ef",
   "metadata": {},
   "source": [
    "## Literal characters"
   ]
  },
  {
   "cell_type": "code",
   "execution_count": 3,
   "id": "2efbf986",
   "metadata": {},
   "outputs": [
    {
     "data": {
      "text/plain": [
       "<re.Match object; span=(0, 6), match='python'>"
      ]
     },
     "execution_count": 3,
     "metadata": {},
     "output_type": "execute_result"
    }
   ],
   "source": [
    "re.match(\"python\", \"python in NLP\")"
   ]
  },
  {
   "cell_type": "markdown",
   "id": "59e78aa5",
   "metadata": {},
   "source": [
    "## Character classes"
   ]
  },
  {
   "cell_type": "code",
   "execution_count": 8,
   "id": "c43d47f3",
   "metadata": {},
   "outputs": [],
   "source": [
    "## Match \"Python\" or \"python"
   ]
  },
  {
   "cell_type": "code",
   "execution_count": 6,
   "id": "62495739",
   "metadata": {},
   "outputs": [
    {
     "data": {
      "text/plain": [
       "<re.Match object; span=(0, 6), match='Python'>"
      ]
     },
     "execution_count": 6,
     "metadata": {},
     "output_type": "execute_result"
    }
   ],
   "source": [
    "re.match('[Pp]ython',\"Python in NLP\")"
   ]
  },
  {
   "cell_type": "code",
   "execution_count": 7,
   "id": "3856076e",
   "metadata": {},
   "outputs": [
    {
     "data": {
      "text/plain": [
       "<re.Match object; span=(0, 6), match='python'>"
      ]
     },
     "execution_count": 7,
     "metadata": {},
     "output_type": "execute_result"
    }
   ],
   "source": [
    "re.match('[Pp]ython',\"python in NLP\")"
   ]
  },
  {
   "cell_type": "code",
   "execution_count": 13,
   "id": "c21b076e",
   "metadata": {},
   "outputs": [
    {
     "data": {
      "text/plain": [
       "<re.Match object; span=(0, 4), match='rube'>"
      ]
     },
     "execution_count": 13,
     "metadata": {},
     "output_type": "execute_result"
    }
   ],
   "source": [
    "## Match \"ruby\" or \"rube\"\n",
    "re.match(\"rub[ye]\", \"rube is a gem stone\")"
   ]
  },
  {
   "cell_type": "code",
   "execution_count": 37,
   "id": "cc76d41e",
   "metadata": {},
   "outputs": [
    {
     "data": {
      "text/plain": [
       "<re.Match object; span=(0, 1), match='e'>"
      ]
     },
     "execution_count": 37,
     "metadata": {},
     "output_type": "execute_result"
    }
   ],
   "source": [
    "## Match any one lowercase vowel\n",
    "re.match(\"[aeiou]\", \"emerold is a gem stone\")"
   ]
  },
  {
   "cell_type": "code",
   "execution_count": 39,
   "id": "bdc797c9",
   "metadata": {},
   "outputs": [
    {
     "data": {
      "text/plain": [
       "<re.Match object; span=(0, 1), match='1'>"
      ]
     },
     "execution_count": 39,
     "metadata": {},
     "output_type": "execute_result"
    }
   ],
   "source": [
    "#Match any digit; same as [0123456789]\n",
    "re.match(\"[0-9]\", \"1st in the game\")"
   ]
  },
  {
   "cell_type": "code",
   "execution_count": 41,
   "id": "8b5ec660",
   "metadata": {},
   "outputs": [
    {
     "data": {
      "text/plain": [
       "<re.Match object; span=(0, 1), match='f'>"
      ]
     },
     "execution_count": 41,
     "metadata": {},
     "output_type": "execute_result"
    }
   ],
   "source": [
    "#Match any lowercase ASCII letter\n",
    "re.match(\"[a-z]\", \"fantastic in the game\")"
   ]
  },
  {
   "cell_type": "code",
   "execution_count": 43,
   "id": "4d0a04c2",
   "metadata": {},
   "outputs": [
    {
     "data": {
      "text/plain": [
       "<re.Match object; span=(0, 1), match='F'>"
      ]
     },
     "execution_count": 43,
     "metadata": {},
     "output_type": "execute_result"
    }
   ],
   "source": [
    "#Match any uppercase ASCII letter\n",
    "re.match(\"[A-Z]\", \"Fantastic in the game\")"
   ]
  },
  {
   "cell_type": "code",
   "execution_count": 44,
   "id": "0805dbfd",
   "metadata": {},
   "outputs": [
    {
     "data": {
      "text/plain": [
       "<re.Match object; span=(0, 1), match='F'>"
      ]
     },
     "execution_count": 44,
     "metadata": {},
     "output_type": "execute_result"
    }
   ],
   "source": [
    "#Match any of the above\n",
    "re.match(\"[a-zA-Z0-9]\", \"Fantastic in the game\")"
   ]
  },
  {
   "cell_type": "code",
   "execution_count": 47,
   "id": "10ec5c8a",
   "metadata": {},
   "outputs": [
    {
     "data": {
      "text/plain": [
       "<re.Match object; span=(0, 1), match='f'>"
      ]
     },
     "execution_count": 47,
     "metadata": {},
     "output_type": "execute_result"
    }
   ],
   "source": [
    "#Match anything other than a lowercase vowel\n",
    "re.match(\"[^aeiou]\", \"fantastic in the game\")"
   ]
  },
  {
   "cell_type": "code",
   "execution_count": 48,
   "id": "45e0c747",
   "metadata": {},
   "outputs": [
    {
     "data": {
      "text/plain": [
       "<re.Match object; span=(0, 1), match='f'>"
      ]
     },
     "execution_count": 48,
     "metadata": {},
     "output_type": "execute_result"
    }
   ],
   "source": [
    "#Match anything other than a digit\n",
    "re.match(\"[^0-9]\", \"fantastic in the game\")"
   ]
  },
  {
   "cell_type": "markdown",
   "id": "b4e668b6",
   "metadata": {},
   "source": [
    "# Special Character Classes"
   ]
  },
  {
   "cell_type": "code",
   "execution_count": 49,
   "id": "da420332",
   "metadata": {},
   "outputs": [
    {
     "data": {
      "text/plain": [
       "<re.Match object; span=(0, 1), match='f'>"
      ]
     },
     "execution_count": 49,
     "metadata": {},
     "output_type": "execute_result"
    }
   ],
   "source": [
    "#Match any character except newline\n",
    "re.match(\".\", \"fantastic in the game\")"
   ]
  },
  {
   "cell_type": "code",
   "execution_count": 51,
   "id": "b69b7ebd",
   "metadata": {},
   "outputs": [
    {
     "data": {
      "text/plain": [
       "<re.Match object; span=(9, 10), match='3'>"
      ]
     },
     "execution_count": 51,
     "metadata": {},
     "output_type": "execute_result"
    }
   ],
   "source": [
    "#Match a digit: [0-9]\n",
    "re.search(\"\\d\", \"earth is 3rd planet in solar system\")"
   ]
  },
  {
   "cell_type": "code",
   "execution_count": 54,
   "id": "592f22cd",
   "metadata": {},
   "outputs": [
    {
     "data": {
      "text/plain": [
       "<re.Match object; span=(0, 1), match='e'>"
      ]
     },
     "execution_count": 54,
     "metadata": {},
     "output_type": "execute_result"
    }
   ],
   "source": [
    "#Match a nondigit: [^0-9]\n",
    "re.search(\"\\D\", \"earth is 3rd planet in solar system\")"
   ]
  },
  {
   "cell_type": "code",
   "execution_count": 55,
   "id": "59208619",
   "metadata": {},
   "outputs": [
    {
     "data": {
      "text/plain": [
       "<re.Match object; span=(5, 6), match=' '>"
      ]
     },
     "execution_count": 55,
     "metadata": {},
     "output_type": "execute_result"
    }
   ],
   "source": [
    "#Match a whitespace character: [ \\t\\r\\n\\f]\n",
    "re.search(\"\\s\", \"earth is 3rd planet in solar system\")"
   ]
  },
  {
   "cell_type": "code",
   "execution_count": 56,
   "id": "d9be6f78",
   "metadata": {},
   "outputs": [
    {
     "data": {
      "text/plain": [
       "<re.Match object; span=(0, 1), match='e'>"
      ]
     },
     "execution_count": 56,
     "metadata": {},
     "output_type": "execute_result"
    }
   ],
   "source": [
    "#Match nonwhitespace: [^ \\t\\r\\n\\f]\n",
    "re.search(\"\\S\", \"earth is 3rd planet in solar system\")"
   ]
  },
  {
   "cell_type": "code",
   "execution_count": 57,
   "id": "8e34b040",
   "metadata": {},
   "outputs": [
    {
     "data": {
      "text/plain": [
       "<re.Match object; span=(0, 1), match='e'>"
      ]
     },
     "execution_count": 57,
     "metadata": {},
     "output_type": "execute_result"
    }
   ],
   "source": [
    "# Match a single word character: [A-Za-z0-9_]\n",
    "re.search(\"\\w\", \"earth is 3rd planet in solar system\")"
   ]
  },
  {
   "cell_type": "code",
   "execution_count": 58,
   "id": "eec34530",
   "metadata": {},
   "outputs": [
    {
     "data": {
      "text/plain": [
       "<re.Match object; span=(5, 6), match=' '>"
      ]
     },
     "execution_count": 58,
     "metadata": {},
     "output_type": "execute_result"
    }
   ],
   "source": [
    "# Match a nonword character: [^A-Za-z0-9_]\n",
    "re.search(\"\\W\", \"earth is 3rd planet in solar system\")"
   ]
  },
  {
   "cell_type": "markdown",
   "id": "b75864e6",
   "metadata": {},
   "source": [
    "# Repetition Cases"
   ]
  },
  {
   "cell_type": "code",
   "execution_count": 63,
   "id": "543995e7",
   "metadata": {},
   "outputs": [
    {
     "data": {
      "text/plain": [
       "<re.Match object; span=(0, 4), match='ruby'>"
      ]
     },
     "execution_count": 63,
     "metadata": {},
     "output_type": "execute_result"
    }
   ],
   "source": [
    "# Match \"rub\" or \"ruby\": the y is optional\n",
    "re.match(\"ruby?\", \"ruby is a gem\")"
   ]
  },
  {
   "cell_type": "code",
   "execution_count": 65,
   "id": "c7de959e",
   "metadata": {},
   "outputs": [
    {
     "name": "stdout",
     "output_type": "stream",
     "text": [
      "<re.Match object; span=(0, 3), match='rub'>\n",
      "<re.Match object; span=(0, 4), match='ruby'>\n",
      "<re.Match object; span=(0, 8), match='rubyyyyy'>\n",
      "None\n"
     ]
    }
   ],
   "source": [
    "# Match \"rub\" or \"ruby\": the y is optional\n",
    "print(re.match(\"ruby*\", \"rub\"))\n",
    "print(re.match(\"ruby*\", \"ruby\"))\n",
    "print(re.match(\"ruby*\", \"rubyyyyy\"))\n",
    "\n",
    "print(re.match(\"ruby*\", \"ru\"))"
   ]
  },
  {
   "cell_type": "code",
   "execution_count": 67,
   "id": "dd217146",
   "metadata": {},
   "outputs": [
    {
     "name": "stdout",
     "output_type": "stream",
     "text": [
      "None\n",
      "<re.Match object; span=(0, 4), match='ruby'>\n",
      "<re.Match object; span=(0, 8), match='rubyyyyy'>\n"
     ]
    }
   ],
   "source": [
    "# Match \"rub\" plus 1 or more ys\n",
    "print(re.match(\"ruby+\", \"rub\"))\n",
    "print(re.match(\"ruby+\", \"ruby\"))\n",
    "print(re.match(\"ruby+\", \"rubyyyyy\"))\n"
   ]
  },
  {
   "cell_type": "code",
   "execution_count": 70,
   "id": "6e19d06a",
   "metadata": {},
   "outputs": [
    {
     "name": "stdout",
     "output_type": "stream",
     "text": [
      "<re.Match object; span=(0, 3), match='123'>\n",
      "<re.Match object; span=(0, 3), match='123'>\n",
      "None\n"
     ]
    }
   ],
   "source": [
    "# Match exactly 3 digits\n",
    "print(re.match(\"\\d{3}\", \"123\"))\n",
    "print(re.match(\"\\d{3}\", \"1234\"))\n",
    "print(re.match(\"\\d{3}\", \"12\"))"
   ]
  },
  {
   "cell_type": "code",
   "execution_count": 71,
   "id": "31506622",
   "metadata": {},
   "outputs": [
    {
     "name": "stdout",
     "output_type": "stream",
     "text": [
      "<re.Match object; span=(0, 3), match='123'>\n",
      "<re.Match object; span=(0, 4), match='1234'>\n",
      "None\n"
     ]
    }
   ],
   "source": [
    "# Match 3 or more digits\n",
    "print(re.match(\"\\d{3,}\", \"123\"))\n",
    "print(re.match(\"\\d{3,}\", \"1234\"))\n",
    "print(re.match(\"\\d{3,}\", \"12\"))"
   ]
  },
  {
   "cell_type": "code",
   "execution_count": 72,
   "id": "cbd1de9c",
   "metadata": {},
   "outputs": [
    {
     "name": "stdout",
     "output_type": "stream",
     "text": [
      "<re.Match object; span=(0, 3), match='123'>\n",
      "<re.Match object; span=(0, 4), match='1234'>\n",
      "<re.Match object; span=(0, 5), match='12345'>\n",
      "None\n"
     ]
    }
   ],
   "source": [
    "# Match 3, 4, or 5 digits\n",
    "print(re.match(\"\\d{3,5}\", \"123\"))\n",
    "print(re.match(\"\\d{3,5}\", \"1234\"))\n",
    "print(re.match(\"\\d{3,5}\", \"123456\"))\n",
    "print(re.match(\"\\d{3,5}\", \"12\"))"
   ]
  },
  {
   "cell_type": "markdown",
   "id": "bc64c40c",
   "metadata": {},
   "source": [
    "# Nongreedy repetition"
   ]
  },
  {
   "cell_type": "code",
   "execution_count": 76,
   "id": "2855645e",
   "metadata": {},
   "outputs": [
    {
     "name": "stdout",
     "output_type": "stream",
     "text": [
      "<re.Match object; span=(0, 13), match='<python>perl>'>\n"
     ]
    }
   ],
   "source": [
    "# Greedy repetition\n",
    "print(re.match(\"<.*>\", \"<python>perl>\"))"
   ]
  },
  {
   "cell_type": "code",
   "execution_count": 77,
   "id": "d3e5c310",
   "metadata": {},
   "outputs": [
    {
     "name": "stdout",
     "output_type": "stream",
     "text": [
      "<re.Match object; span=(0, 8), match='<python>'>\n"
     ]
    }
   ],
   "source": [
    "# Nongreedy\n",
    "print(re.match(\"<.*?>\", \"<python>perl>\"))"
   ]
  },
  {
   "cell_type": "markdown",
   "id": "fcb836b1",
   "metadata": {},
   "source": [
    "# Alternatives"
   ]
  },
  {
   "cell_type": "code",
   "execution_count": 84,
   "id": "c330d229",
   "metadata": {},
   "outputs": [
    {
     "name": "stdout",
     "output_type": "stream",
     "text": [
      "<re.Match object; span=(0, 4), match='ruby'>\n",
      "<re.Match object; span=(0, 5), match='ruble'>\n",
      "None\n"
     ]
    }
   ],
   "source": [
    "print(re.match(r\"rub(y|le)\", \"ruby\"))\n",
    "print(re.match(r\"rub(y|le)\", \"ruble\"))\n",
    "print(re.match(r\"rub(y|le)\", \"rube\"))"
   ]
  },
  {
   "cell_type": "code",
   "execution_count": 88,
   "id": "f1151d4f",
   "metadata": {},
   "outputs": [
    {
     "name": "stdout",
     "output_type": "stream",
     "text": [
      "<re.Match object; span=(0, 9), match='Python!!!'>\n"
     ]
    }
   ],
   "source": [
    "# \"Python\" followed by one or more ! or one ?\n",
    "print(re.match(r\"Python(!+|\\?)\", \"Python!!!\"))"
   ]
  },
  {
   "cell_type": "markdown",
   "id": "d1c1d51a",
   "metadata": {},
   "source": [
    "# Anchors"
   ]
  },
  {
   "cell_type": "code",
   "execution_count": 96,
   "id": "1e4387cc",
   "metadata": {},
   "outputs": [
    {
     "name": "stdout",
     "output_type": "stream",
     "text": [
      "<re.Match object; span=(0, 6), match='Python'>\n",
      "<re.Match object; span=(0, 6), match='Python'>\n",
      "None\n"
     ]
    }
   ],
   "source": [
    "# Match \"Python\" at the start of a string or internal line\n",
    "print(re.match(\"^Python\", \"Python\"))\n",
    "print(re.match(\"\\APython\", \"Python\"))\n",
    "print(re.match(\"\\AJupyter\", \"python\"))"
   ]
  },
  {
   "cell_type": "code",
   "execution_count": 97,
   "id": "e66dcc45",
   "metadata": {},
   "outputs": [
    {
     "name": "stdout",
     "output_type": "stream",
     "text": [
      "<re.Match object; span=(0, 6), match='Python'>\n",
      "<re.Match object; span=(0, 6), match='Python'>\n",
      "None\n"
     ]
    }
   ],
   "source": [
    "# Match \"Python\" at the start of a string or internal line\n",
    "print(re.match(\"Python$\", \"Python\"))\n",
    "print(re.match(\"Python\\Z\", \"Python\"))\n",
    "print(re.match(\"Jupyter\\Z\", \"python\"))"
   ]
  },
  {
   "cell_type": "code",
   "execution_count": 92,
   "id": "887aa918",
   "metadata": {},
   "outputs": [
    {
     "name": "stdout",
     "output_type": "stream",
     "text": [
      "None\n",
      "<re.Match object; span=(0, 6), match='Python'>\n"
     ]
    }
   ],
   "source": [
    "# Match \"Python\", if followed by an exclamation point.\n",
    "print(re.match(\"Python(?=!)\", \"Python\"))\n",
    "print(re.match(\"Python(?=!)\", \"Python!\"))"
   ]
  },
  {
   "cell_type": "code",
   "execution_count": 91,
   "id": "9112aa1a",
   "metadata": {},
   "outputs": [
    {
     "name": "stdout",
     "output_type": "stream",
     "text": [
      "<re.Match object; span=(0, 6), match='Python'>\n",
      "None\n"
     ]
    }
   ],
   "source": [
    "# Match \"Python\", if not followed by an exclamation point.\n",
    "print(re.match(\"Python(?!!)\", \"Python\"))\n",
    "print(re.match(\"Python(?!!)\", \"Python!\"))"
   ]
  },
  {
   "cell_type": "markdown",
   "id": "0e9701cf",
   "metadata": {},
   "source": [
    "> End of Program"
   ]
  }
 ],
 "metadata": {
  "kernelspec": {
   "display_name": "Python 3 (ipykernel)",
   "language": "python",
   "name": "python3"
  },
  "language_info": {
   "codemirror_mode": {
    "name": "ipython",
    "version": 3
   },
   "file_extension": ".py",
   "mimetype": "text/x-python",
   "name": "python",
   "nbconvert_exporter": "python",
   "pygments_lexer": "ipython3",
   "version": "3.9.7"
  }
 },
 "nbformat": 4,
 "nbformat_minor": 5
}
