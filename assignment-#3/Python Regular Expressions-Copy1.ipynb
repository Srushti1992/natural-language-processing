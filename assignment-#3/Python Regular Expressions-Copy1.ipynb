{
 "cells": [
  {
   "cell_type": "markdown",
   "id": "50f90c55",
   "metadata": {},
   "source": [
    "# Regular Expressions\n",
    "\n",
    "Regular Expressions, “regex” for short, is a pattern describing a certain amount of text (Goyvaerts). \n",
    "This tool allows us to filter through and pull information from a text document without having to physically read it. Regex is especially helpful when tokenizing text by defining the rules for where strings will be split into tokens. The regular expressions library contains many useful tools:"
   ]
  },
  {
   "cell_type": "code",
   "execution_count": null,
   "id": "d3abfa45",
   "metadata": {},
   "outputs": [],
   "source": []
  },
  {
   "cell_type": "code",
   "execution_count": null,
   "id": "5ea8daa7",
   "metadata": {},
   "outputs": [],
   "source": []
  },
  {
   "cell_type": "code",
   "execution_count": null,
   "id": "8d5afac9",
   "metadata": {},
   "outputs": [],
   "source": []
  },
  {
   "cell_type": "markdown",
   "id": "4a330d09",
   "metadata": {},
   "source": [
    "## Ranges — [A-Z] [A-Za-z0-9]\n",
    "Instead of typing every letter in the alphabet, we can use a range from a-z. \n",
    "\n",
    "The left pattern above, [A-Z], will match on any uppercase letter. The pattern on the right, [A-Za-z0-9], will match on any uppercase letter, lowercase letter, and digit."
   ]
  },
  {
   "cell_type": "code",
   "execution_count": null,
   "id": "128ddd6e",
   "metadata": {},
   "outputs": [],
   "source": []
  },
  {
   "cell_type": "code",
   "execution_count": null,
   "id": "c2c45c6e",
   "metadata": {},
   "outputs": [],
   "source": []
  },
  {
   "cell_type": "code",
   "execution_count": null,
   "id": "d9761dd1",
   "metadata": {},
   "outputs": [],
   "source": []
  },
  {
   "cell_type": "markdown",
   "id": "87539da2",
   "metadata": {},
   "source": [
    "## Character Classes — \\w \\W \\d\n",
    "Character classes, in a way, are similar to ranges. Think of these as a shortcut to ranges. \n",
    "\n",
    "The \\w class would find any lowercase word and the \\d class would match on any digit."
   ]
  },
  {
   "cell_type": "code",
   "execution_count": null,
   "id": "94508589",
   "metadata": {},
   "outputs": [],
   "source": []
  },
  {
   "cell_type": "code",
   "execution_count": null,
   "id": "03c8629f",
   "metadata": {},
   "outputs": [],
   "source": []
  },
  {
   "cell_type": "code",
   "execution_count": null,
   "id": "6e06f401",
   "metadata": {},
   "outputs": [],
   "source": []
  },
  {
   "cell_type": "code",
   "execution_count": null,
   "id": "cd1554b2",
   "metadata": {},
   "outputs": [],
   "source": []
  },
  {
   "cell_type": "markdown",
   "id": "aff093ed",
   "metadata": {},
   "source": [
    "## Groups — (A-Z0-9)\n",
    "Also similar to ranges, but require more specificity to match. \n",
    "The pattern above (A-Z0-9) can only match on that exact sequence."
   ]
  },
  {
   "cell_type": "code",
   "execution_count": null,
   "id": "9fe1bc4e",
   "metadata": {},
   "outputs": [],
   "source": []
  },
  {
   "cell_type": "code",
   "execution_count": null,
   "id": "c3bef17e",
   "metadata": {},
   "outputs": [],
   "source": []
  },
  {
   "cell_type": "code",
   "execution_count": null,
   "id": "a9abf7b7",
   "metadata": {},
   "outputs": [],
   "source": []
  },
  {
   "cell_type": "markdown",
   "id": "31a5b399",
   "metadata": {},
   "source": [
    "## Quantifiers — {*} {+} {?}\n",
    "Work hand in hand with groups, giving us the ability to specify the amount of times a group need to appear in order to match. \n",
    "\n",
    "The {*} will match on a group that occurs 0 or more times, {+}, 1 or more times, and {?} 0 or 1 times."
   ]
  },
  {
   "cell_type": "code",
   "execution_count": null,
   "id": "ef666fe3",
   "metadata": {},
   "outputs": [],
   "source": []
  },
  {
   "cell_type": "code",
   "execution_count": null,
   "id": "7c62ea84",
   "metadata": {},
   "outputs": [],
   "source": []
  },
  {
   "cell_type": "code",
   "execution_count": null,
   "id": "1c71f446",
   "metadata": {},
   "outputs": [],
   "source": []
  },
  {
   "cell_type": "code",
   "execution_count": null,
   "id": "2b67aadb",
   "metadata": {},
   "outputs": [],
   "source": []
  },
  {
   "cell_type": "markdown",
   "id": "aa87ca61",
   "metadata": {},
   "source": [
    "> End of Program"
   ]
  }
 ],
 "metadata": {
  "kernelspec": {
   "display_name": "Python 3 (ipykernel)",
   "language": "python",
   "name": "python3"
  },
  "language_info": {
   "codemirror_mode": {
    "name": "ipython",
    "version": 3
   },
   "file_extension": ".py",
   "mimetype": "text/x-python",
   "name": "python",
   "nbconvert_exporter": "python",
   "pygments_lexer": "ipython3",
   "version": "3.9.7"
  }
 },
 "nbformat": 4,
 "nbformat_minor": 5
}
